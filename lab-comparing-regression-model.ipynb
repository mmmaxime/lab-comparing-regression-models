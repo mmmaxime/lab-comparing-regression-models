{
 "cells": [
  {
   "cell_type": "markdown",
   "id": "54c3bfec",
   "metadata": {},
   "source": [
    "# lab-comparing-regression-model"
   ]
  },
  {
   "cell_type": "code",
   "execution_count": 1,
   "id": "732cf84b",
   "metadata": {},
   "outputs": [],
   "source": [
    "#Importing the necessary libraries if you are starting a new notebook. \n",
    "#Using the same data as the previous lab: we_fn_use_c_marketing_customer_value_analysis.csv\n",
    "import pandas as pd\n",
    "import seaborn as sns\n",
    "import matplotlib.pyplot as plt\n",
    "import numpy as np\n",
    "\n",
    "customer_df = pd.read_csv('we_fn_use_c_marketing_customer_value_analysis.csv')"
   ]
  },
  {
   "cell_type": "code",
   "execution_count": 2,
   "id": "94e5170e",
   "metadata": {},
   "outputs": [],
   "source": [
    "categorical_df = customer_df.select_dtypes(['object'])\n",
    "numerical_df = customer_df.select_dtypes(np.number)"
   ]
  },
  {
   "cell_type": "code",
   "execution_count": 3,
   "id": "4f543b4e",
   "metadata": {},
   "outputs": [
    {
     "data": {
      "text/plain": [
       "Customer                         0\n",
       "State                            0\n",
       "Customer Lifetime Value          0\n",
       "Response                         0\n",
       "Coverage                         0\n",
       "Education                        0\n",
       "Effective To Date                0\n",
       "EmploymentStatus                 0\n",
       "Gender                           0\n",
       "Income                           0\n",
       "Location Code                    0\n",
       "Marital Status                   0\n",
       "Monthly Premium Auto             0\n",
       "Months Since Last Claim          0\n",
       "Months Since Policy Inception    0\n",
       "Number of Open Complaints        0\n",
       "Number of Policies               0\n",
       "Policy Type                      0\n",
       "Policy                           0\n",
       "Renew Offer Type                 0\n",
       "Sales Channel                    0\n",
       "Total Claim Amount               0\n",
       "Vehicle Class                    0\n",
       "Vehicle Size                     0\n",
       "dtype: int64"
      ]
     },
     "execution_count": 3,
     "metadata": {},
     "output_type": "execute_result"
    }
   ],
   "source": [
    "#Checking for NaN values.\n",
    "customer_df.isna().sum()"
   ]
  },
  {
   "cell_type": "code",
   "execution_count": 4,
   "id": "b14f0a8b",
   "metadata": {},
   "outputs": [
    {
     "data": {
      "text/html": [
       "<div>\n",
       "<style scoped>\n",
       "    .dataframe tbody tr th:only-of-type {\n",
       "        vertical-align: middle;\n",
       "    }\n",
       "\n",
       "    .dataframe tbody tr th {\n",
       "        vertical-align: top;\n",
       "    }\n",
       "\n",
       "    .dataframe thead th {\n",
       "        text-align: right;\n",
       "    }\n",
       "</style>\n",
       "<table border=\"1\" class=\"dataframe\">\n",
       "  <thead>\n",
       "    <tr style=\"text-align: right;\">\n",
       "      <th></th>\n",
       "      <th>customer</th>\n",
       "      <th>state</th>\n",
       "      <th>response</th>\n",
       "      <th>coverage</th>\n",
       "      <th>education</th>\n",
       "      <th>effective_to_date</th>\n",
       "      <th>employment_status</th>\n",
       "      <th>gender</th>\n",
       "      <th>location_code</th>\n",
       "      <th>marital_status</th>\n",
       "      <th>policy_type</th>\n",
       "      <th>policy</th>\n",
       "      <th>renew_offer_type</th>\n",
       "      <th>sales_channel</th>\n",
       "      <th>vehicle_class</th>\n",
       "      <th>vehicle_size</th>\n",
       "    </tr>\n",
       "  </thead>\n",
       "  <tbody>\n",
       "    <tr>\n",
       "      <th>0</th>\n",
       "      <td>BU79786</td>\n",
       "      <td>Washington</td>\n",
       "      <td>No</td>\n",
       "      <td>Basic</td>\n",
       "      <td>Bachelor</td>\n",
       "      <td>24/02/2011</td>\n",
       "      <td>Employed</td>\n",
       "      <td>F</td>\n",
       "      <td>Suburban</td>\n",
       "      <td>Married</td>\n",
       "      <td>Corporate Auto</td>\n",
       "      <td>Corporate L3</td>\n",
       "      <td>Offer1</td>\n",
       "      <td>Agent</td>\n",
       "      <td>Two-Door Car</td>\n",
       "      <td>Medsize</td>\n",
       "    </tr>\n",
       "    <tr>\n",
       "      <th>1</th>\n",
       "      <td>QZ44356</td>\n",
       "      <td>Arizona</td>\n",
       "      <td>No</td>\n",
       "      <td>Extended</td>\n",
       "      <td>Bachelor</td>\n",
       "      <td>31/01/2011</td>\n",
       "      <td>Unemployed</td>\n",
       "      <td>F</td>\n",
       "      <td>Suburban</td>\n",
       "      <td>Single</td>\n",
       "      <td>Personal Auto</td>\n",
       "      <td>Personal L3</td>\n",
       "      <td>Offer3</td>\n",
       "      <td>Agent</td>\n",
       "      <td>Four-Door Car</td>\n",
       "      <td>Medsize</td>\n",
       "    </tr>\n",
       "    <tr>\n",
       "      <th>2</th>\n",
       "      <td>AI49188</td>\n",
       "      <td>Nevada</td>\n",
       "      <td>No</td>\n",
       "      <td>Premium</td>\n",
       "      <td>Bachelor</td>\n",
       "      <td>19/02/2011</td>\n",
       "      <td>Employed</td>\n",
       "      <td>F</td>\n",
       "      <td>Suburban</td>\n",
       "      <td>Married</td>\n",
       "      <td>Personal Auto</td>\n",
       "      <td>Personal L3</td>\n",
       "      <td>Offer1</td>\n",
       "      <td>Agent</td>\n",
       "      <td>Two-Door Car</td>\n",
       "      <td>Medsize</td>\n",
       "    </tr>\n",
       "    <tr>\n",
       "      <th>3</th>\n",
       "      <td>WW63253</td>\n",
       "      <td>California</td>\n",
       "      <td>No</td>\n",
       "      <td>Basic</td>\n",
       "      <td>Bachelor</td>\n",
       "      <td>20/01/2011</td>\n",
       "      <td>Unemployed</td>\n",
       "      <td>M</td>\n",
       "      <td>Suburban</td>\n",
       "      <td>Married</td>\n",
       "      <td>Corporate Auto</td>\n",
       "      <td>Corporate L2</td>\n",
       "      <td>Offer1</td>\n",
       "      <td>Call Center</td>\n",
       "      <td>SUV</td>\n",
       "      <td>Medsize</td>\n",
       "    </tr>\n",
       "    <tr>\n",
       "      <th>4</th>\n",
       "      <td>HB64268</td>\n",
       "      <td>Washington</td>\n",
       "      <td>No</td>\n",
       "      <td>Basic</td>\n",
       "      <td>Bachelor</td>\n",
       "      <td>02/03/2011</td>\n",
       "      <td>Employed</td>\n",
       "      <td>M</td>\n",
       "      <td>Rural</td>\n",
       "      <td>Single</td>\n",
       "      <td>Personal Auto</td>\n",
       "      <td>Personal L1</td>\n",
       "      <td>Offer1</td>\n",
       "      <td>Agent</td>\n",
       "      <td>Four-Door Car</td>\n",
       "      <td>Medsize</td>\n",
       "    </tr>\n",
       "  </tbody>\n",
       "</table>\n",
       "</div>"
      ],
      "text/plain": [
       "  customer       state response  coverage education effective_to_date  \\\n",
       "0  BU79786  Washington       No     Basic  Bachelor        24/02/2011   \n",
       "1  QZ44356     Arizona       No  Extended  Bachelor        31/01/2011   \n",
       "2  AI49188      Nevada       No   Premium  Bachelor        19/02/2011   \n",
       "3  WW63253  California       No     Basic  Bachelor        20/01/2011   \n",
       "4  HB64268  Washington       No     Basic  Bachelor        02/03/2011   \n",
       "\n",
       "  employment_status gender location_code marital_status     policy_type  \\\n",
       "0          Employed      F      Suburban        Married  Corporate Auto   \n",
       "1        Unemployed      F      Suburban         Single   Personal Auto   \n",
       "2          Employed      F      Suburban        Married   Personal Auto   \n",
       "3        Unemployed      M      Suburban        Married  Corporate Auto   \n",
       "4          Employed      M         Rural         Single   Personal Auto   \n",
       "\n",
       "         policy renew_offer_type sales_channel  vehicle_class vehicle_size  \n",
       "0  Corporate L3           Offer1         Agent   Two-Door Car      Medsize  \n",
       "1   Personal L3           Offer3         Agent  Four-Door Car      Medsize  \n",
       "2   Personal L3           Offer1         Agent   Two-Door Car      Medsize  \n",
       "3  Corporate L2           Offer1   Call Center            SUV      Medsize  \n",
       "4   Personal L1           Offer1         Agent  Four-Door Car      Medsize  "
      ]
     },
     "execution_count": 4,
     "metadata": {},
     "output_type": "execute_result"
    }
   ],
   "source": [
    "#Additional data step: Renaming all the columns to snakecase\n",
    "cols=[]\n",
    "for c in categorical_df.columns:\n",
    "    cols.append(c.lower())\n",
    "categorical_df.columns=cols\n",
    "categorical_df.columns = categorical_df.columns.str.replace(' ', '_')\n",
    "# changing the name of employmentstatus -> employment_status\n",
    "categorical_df = categorical_df.rename(columns={'employmentstatus':'employment_status'})\n",
    "# changing the effective date\n",
    "categorical_df['effective_to_date'] = pd.to_datetime(categorical_df['effective_to_date'], \n",
    "                                  dayfirst=True).dt.strftime('%d/%m/%Y')\n",
    "categorical_df.head()"
   ]
  },
  {
   "cell_type": "code",
   "execution_count": 5,
   "id": "46d1ea5c",
   "metadata": {},
   "outputs": [
    {
     "data": {
      "text/html": [
       "<div>\n",
       "<style scoped>\n",
       "    .dataframe tbody tr th:only-of-type {\n",
       "        vertical-align: middle;\n",
       "    }\n",
       "\n",
       "    .dataframe tbody tr th {\n",
       "        vertical-align: top;\n",
       "    }\n",
       "\n",
       "    .dataframe thead th {\n",
       "        text-align: right;\n",
       "    }\n",
       "</style>\n",
       "<table border=\"1\" class=\"dataframe\">\n",
       "  <thead>\n",
       "    <tr style=\"text-align: right;\">\n",
       "      <th></th>\n",
       "      <th>customer_lifetime_value</th>\n",
       "      <th>income</th>\n",
       "      <th>monthly_premium_auto</th>\n",
       "      <th>months_since_last_claim</th>\n",
       "      <th>months_since_policy_inception</th>\n",
       "      <th>number_of_open_complaints</th>\n",
       "      <th>number_of_policies</th>\n",
       "      <th>total_claim_amount</th>\n",
       "    </tr>\n",
       "  </thead>\n",
       "  <tbody>\n",
       "    <tr>\n",
       "      <th>0</th>\n",
       "      <td>2763.519279</td>\n",
       "      <td>56274</td>\n",
       "      <td>69</td>\n",
       "      <td>32</td>\n",
       "      <td>5</td>\n",
       "      <td>0</td>\n",
       "      <td>1</td>\n",
       "      <td>384.811147</td>\n",
       "    </tr>\n",
       "    <tr>\n",
       "      <th>1</th>\n",
       "      <td>6979.535903</td>\n",
       "      <td>0</td>\n",
       "      <td>94</td>\n",
       "      <td>13</td>\n",
       "      <td>42</td>\n",
       "      <td>0</td>\n",
       "      <td>8</td>\n",
       "      <td>1131.464935</td>\n",
       "    </tr>\n",
       "    <tr>\n",
       "      <th>2</th>\n",
       "      <td>12887.431650</td>\n",
       "      <td>48767</td>\n",
       "      <td>108</td>\n",
       "      <td>18</td>\n",
       "      <td>38</td>\n",
       "      <td>0</td>\n",
       "      <td>2</td>\n",
       "      <td>566.472247</td>\n",
       "    </tr>\n",
       "    <tr>\n",
       "      <th>3</th>\n",
       "      <td>7645.861827</td>\n",
       "      <td>0</td>\n",
       "      <td>106</td>\n",
       "      <td>18</td>\n",
       "      <td>65</td>\n",
       "      <td>0</td>\n",
       "      <td>7</td>\n",
       "      <td>529.881344</td>\n",
       "    </tr>\n",
       "    <tr>\n",
       "      <th>4</th>\n",
       "      <td>2813.692575</td>\n",
       "      <td>43836</td>\n",
       "      <td>73</td>\n",
       "      <td>12</td>\n",
       "      <td>44</td>\n",
       "      <td>0</td>\n",
       "      <td>1</td>\n",
       "      <td>138.130879</td>\n",
       "    </tr>\n",
       "  </tbody>\n",
       "</table>\n",
       "</div>"
      ],
      "text/plain": [
       "   customer_lifetime_value  income  monthly_premium_auto  \\\n",
       "0              2763.519279   56274                    69   \n",
       "1              6979.535903       0                    94   \n",
       "2             12887.431650   48767                   108   \n",
       "3              7645.861827       0                   106   \n",
       "4              2813.692575   43836                    73   \n",
       "\n",
       "   months_since_last_claim  months_since_policy_inception  \\\n",
       "0                       32                              5   \n",
       "1                       13                             42   \n",
       "2                       18                             38   \n",
       "3                       18                             65   \n",
       "4                       12                             44   \n",
       "\n",
       "   number_of_open_complaints  number_of_policies  total_claim_amount  \n",
       "0                          0                   1          384.811147  \n",
       "1                          0                   8         1131.464935  \n",
       "2                          0                   2          566.472247  \n",
       "3                          0                   7          529.881344  \n",
       "4                          0                   1          138.130879  "
      ]
     },
     "execution_count": 5,
     "metadata": {},
     "output_type": "execute_result"
    }
   ],
   "source": [
    "cols=[]\n",
    "for c in numerical_df.columns:\n",
    "    cols.append(c.lower())\n",
    "numerical_df.columns=cols\n",
    "numerical_df.columns = numerical_df.columns.str.replace(' ', '_')\n",
    "numerical_df.head()"
   ]
  },
  {
   "cell_type": "code",
   "execution_count": 6,
   "id": "e8a7bb5f",
   "metadata": {},
   "outputs": [
    {
     "name": "stdout",
     "output_type": "stream",
     "text": [
      "customer ['BU79786' 'QZ44356' 'AI49188' ... 'TD14365' 'UP19263' 'Y167826']\n",
      "state ['Washington' 'Arizona' 'Nevada' 'California' 'Oregon']\n",
      "response ['No' 'Yes']\n",
      "coverage ['Basic' 'Extended' 'Premium']\n",
      "education ['Bachelor' 'College' 'Master' 'High School or Below' 'Doctor']\n",
      "effective_to_date ['24/02/2011' '31/01/2011' '19/02/2011' '20/01/2011' '02/03/2011'\n",
      " '25/01/2011' '18/01/2011' '26/01/2011' '17/02/2011' '21/02/2011'\n",
      " '01/06/2011' '02/06/2011' '01/10/2011' '17/01/2011' '01/05/2011'\n",
      " '27/02/2011' '14/01/2011' '21/01/2011' '02/05/2011' '29/01/2011'\n",
      " '28/02/2011' '02/12/2011' '02/02/2011' '02/07/2011' '22/01/2011'\n",
      " '13/02/2011' '15/01/2011' '01/08/2011' '01/11/2011' '28/01/2011'\n",
      " '02/08/2011' '23/02/2011' '01/02/2011' '16/02/2011' '27/01/2011'\n",
      " '23/01/2011' '01/09/2011' '02/11/2011' '02/04/2011' '02/01/2011'\n",
      " '15/02/2011' '26/02/2011' '16/01/2011' '01/01/2011' '02/10/2011'\n",
      " '24/01/2011' '25/02/2011' '01/12/2011' '02/09/2011' '19/01/2011'\n",
      " '01/04/2011' '14/02/2011' '20/02/2011' '18/02/2011' '01/03/2011'\n",
      " '13/01/2011' '30/01/2011' '22/02/2011' '01/07/2011']\n",
      "employment_status ['Employed' 'Unemployed' 'Medical Leave' 'Disabled' 'Retired']\n",
      "gender ['F' 'M']\n",
      "location_code ['Suburban' 'Rural' 'Urban']\n",
      "marital_status ['Married' 'Single' 'Divorced']\n",
      "policy_type ['Corporate Auto' 'Personal Auto' 'Special Auto']\n",
      "policy ['Corporate L3' 'Personal L3' 'Corporate L2' 'Personal L1' 'Special L2'\n",
      " 'Corporate L1' 'Personal L2' 'Special L1' 'Special L3']\n",
      "renew_offer_type ['Offer1' 'Offer3' 'Offer2' 'Offer4']\n",
      "sales_channel ['Agent' 'Call Center' 'Web' 'Branch']\n",
      "vehicle_class ['Two-Door Car' 'Four-Door Car' 'SUV' 'Luxury SUV' 'Sports Car'\n",
      " 'Luxury Car']\n",
      "vehicle_size ['Medsize' 'Small' 'Large']\n"
     ]
    }
   ],
   "source": [
    "#Checking all unique values of columns\n",
    "for col in categorical_df:\n",
    "  print(col,categorical_df[col].unique())"
   ]
  },
  {
   "cell_type": "code",
   "execution_count": 7,
   "id": "9bc2ffff",
   "metadata": {},
   "outputs": [],
   "source": [
    "categorical_df = categorical_df.drop(columns=['customer'])"
   ]
  },
  {
   "cell_type": "code",
   "execution_count": 8,
   "id": "645007bf",
   "metadata": {},
   "outputs": [
    {
     "name": "stdout",
     "output_type": "stream",
     "text": [
      "<class 'pandas.core.frame.DataFrame'>\n",
      "RangeIndex: 9134 entries, 0 to 9133\n",
      "Data columns (total 8 columns):\n",
      " #   Column                         Non-Null Count  Dtype  \n",
      "---  ------                         --------------  -----  \n",
      " 0   customer_lifetime_value        9134 non-null   float64\n",
      " 1   income                         9134 non-null   int64  \n",
      " 2   monthly_premium_auto           9134 non-null   int64  \n",
      " 3   months_since_last_claim        9134 non-null   int64  \n",
      " 4   months_since_policy_inception  9134 non-null   int64  \n",
      " 5   number_of_open_complaints      9134 non-null   int64  \n",
      " 6   number_of_policies             9134 non-null   int64  \n",
      " 7   total_claim_amount             9134 non-null   float64\n",
      "dtypes: float64(2), int64(6)\n",
      "memory usage: 571.0 KB\n"
     ]
    }
   ],
   "source": [
    "numerical_df.info()"
   ]
  },
  {
   "cell_type": "code",
   "execution_count": 9,
   "id": "fd5733fc",
   "metadata": {},
   "outputs": [
    {
     "name": "stdout",
     "output_type": "stream",
     "text": [
      "<class 'pandas.core.frame.DataFrame'>\n",
      "RangeIndex: 9134 entries, 0 to 9133\n",
      "Data columns (total 15 columns):\n",
      " #   Column             Non-Null Count  Dtype \n",
      "---  ------             --------------  ----- \n",
      " 0   state              9134 non-null   object\n",
      " 1   response           9134 non-null   object\n",
      " 2   coverage           9134 non-null   object\n",
      " 3   education          9134 non-null   object\n",
      " 4   effective_to_date  9134 non-null   object\n",
      " 5   employment_status  9134 non-null   object\n",
      " 6   gender             9134 non-null   object\n",
      " 7   location_code      9134 non-null   object\n",
      " 8   marital_status     9134 non-null   object\n",
      " 9   policy_type        9134 non-null   object\n",
      " 10  policy             9134 non-null   object\n",
      " 11  renew_offer_type   9134 non-null   object\n",
      " 12  sales_channel      9134 non-null   object\n",
      " 13  vehicle_class      9134 non-null   object\n",
      " 14  vehicle_size       9134 non-null   object\n",
      "dtypes: object(15)\n",
      "memory usage: 1.0+ MB\n"
     ]
    }
   ],
   "source": [
    "categorical_df.info()"
   ]
  },
  {
   "cell_type": "code",
   "execution_count": 10,
   "id": "d5032d52",
   "metadata": {},
   "outputs": [
    {
     "data": {
      "text/plain": [
       "Married     5298\n",
       "Single      2467\n",
       "Divorced    1369\n",
       "Name: marital_status, dtype: int64"
      ]
     },
     "execution_count": 10,
     "metadata": {},
     "output_type": "execute_result"
    }
   ],
   "source": [
    "categorical_df['marital_status'].value_counts()"
   ]
  },
  {
   "cell_type": "code",
   "execution_count": 11,
   "id": "eef8e7f5",
   "metadata": {},
   "outputs": [
    {
     "data": {
      "text/plain": [
       "Married    5298\n",
       "Single     3836\n",
       "Name: marital_status, dtype: int64"
      ]
     },
     "execution_count": 11,
     "metadata": {},
     "output_type": "execute_result"
    }
   ],
   "source": [
    "categorical_df['marital_status'] = np.where(categorical_df['marital_status'].isin(['Divorced']) , 'Single', categorical_df['marital_status'])\n",
    "categorical_df['marital_status'].value_counts()"
   ]
  },
  {
   "cell_type": "code",
   "execution_count": 12,
   "id": "b1a07579",
   "metadata": {},
   "outputs": [],
   "source": [
    "categorical_df['response'] = categorical_df['response'].apply(lambda x: 1 if x == 'Yes' else 0)"
   ]
  },
  {
   "cell_type": "code",
   "execution_count": 13,
   "id": "1a9a2314",
   "metadata": {},
   "outputs": [
    {
     "data": {
      "text/plain": [
       "Personal Auto     6788\n",
       "Corporate Auto    1968\n",
       "Special Auto       378\n",
       "Name: policy_type, dtype: int64"
      ]
     },
     "execution_count": 13,
     "metadata": {},
     "output_type": "execute_result"
    }
   ],
   "source": [
    "categorical_df['policy_type'].value_counts()"
   ]
  },
  {
   "cell_type": "code",
   "execution_count": 14,
   "id": "bd773aa6",
   "metadata": {},
   "outputs": [
    {
     "data": {
      "text/plain": [
       "Personal L3     3426\n",
       "Personal L2     2122\n",
       "Personal L1     1240\n",
       "Corporate L3    1014\n",
       "Corporate L2     595\n",
       "Corporate L1     359\n",
       "Special L2       164\n",
       "Special L3       148\n",
       "Special L1        66\n",
       "Name: policy, dtype: int64"
      ]
     },
     "execution_count": 14,
     "metadata": {},
     "output_type": "execute_result"
    }
   ],
   "source": [
    "categorical_df['policy'].value_counts()"
   ]
  },
  {
   "cell_type": "code",
   "execution_count": 15,
   "id": "28970542",
   "metadata": {},
   "outputs": [],
   "source": [
    "categorical_df = categorical_df.drop(columns=['policy'])"
   ]
  },
  {
   "cell_type": "code",
   "execution_count": 16,
   "id": "3ebdc68f",
   "metadata": {},
   "outputs": [
    {
     "data": {
      "text/html": [
       "<div>\n",
       "<style scoped>\n",
       "    .dataframe tbody tr th:only-of-type {\n",
       "        vertical-align: middle;\n",
       "    }\n",
       "\n",
       "    .dataframe tbody tr th {\n",
       "        vertical-align: top;\n",
       "    }\n",
       "\n",
       "    .dataframe thead th {\n",
       "        text-align: right;\n",
       "    }\n",
       "</style>\n",
       "<table border=\"1\" class=\"dataframe\">\n",
       "  <thead>\n",
       "    <tr style=\"text-align: right;\">\n",
       "      <th></th>\n",
       "      <th>state</th>\n",
       "      <th>response</th>\n",
       "      <th>coverage</th>\n",
       "      <th>education</th>\n",
       "      <th>effective_to_date</th>\n",
       "      <th>employment_status</th>\n",
       "      <th>gender</th>\n",
       "      <th>location_code</th>\n",
       "      <th>marital_status</th>\n",
       "      <th>policy_type</th>\n",
       "      <th>renew_offer_type</th>\n",
       "      <th>sales_channel</th>\n",
       "      <th>vehicle_class</th>\n",
       "      <th>vehicle_size</th>\n",
       "    </tr>\n",
       "  </thead>\n",
       "  <tbody>\n",
       "    <tr>\n",
       "      <th>0</th>\n",
       "      <td>Washington</td>\n",
       "      <td>0</td>\n",
       "      <td>Basic</td>\n",
       "      <td>Bachelor</td>\n",
       "      <td>24/02/2011</td>\n",
       "      <td>Employed</td>\n",
       "      <td>F</td>\n",
       "      <td>Suburban</td>\n",
       "      <td>Married</td>\n",
       "      <td>Corporate Auto</td>\n",
       "      <td>Offer1</td>\n",
       "      <td>Agent</td>\n",
       "      <td>Two-Door Car</td>\n",
       "      <td>Medsize</td>\n",
       "    </tr>\n",
       "    <tr>\n",
       "      <th>1</th>\n",
       "      <td>Arizona</td>\n",
       "      <td>0</td>\n",
       "      <td>Extended</td>\n",
       "      <td>Bachelor</td>\n",
       "      <td>31/01/2011</td>\n",
       "      <td>Unemployed</td>\n",
       "      <td>F</td>\n",
       "      <td>Suburban</td>\n",
       "      <td>Single</td>\n",
       "      <td>Personal Auto</td>\n",
       "      <td>Offer3</td>\n",
       "      <td>Agent</td>\n",
       "      <td>Four-Door Car</td>\n",
       "      <td>Medsize</td>\n",
       "    </tr>\n",
       "    <tr>\n",
       "      <th>2</th>\n",
       "      <td>Nevada</td>\n",
       "      <td>0</td>\n",
       "      <td>Premium</td>\n",
       "      <td>Bachelor</td>\n",
       "      <td>19/02/2011</td>\n",
       "      <td>Employed</td>\n",
       "      <td>F</td>\n",
       "      <td>Suburban</td>\n",
       "      <td>Married</td>\n",
       "      <td>Personal Auto</td>\n",
       "      <td>Offer1</td>\n",
       "      <td>Agent</td>\n",
       "      <td>Two-Door Car</td>\n",
       "      <td>Medsize</td>\n",
       "    </tr>\n",
       "    <tr>\n",
       "      <th>3</th>\n",
       "      <td>California</td>\n",
       "      <td>0</td>\n",
       "      <td>Basic</td>\n",
       "      <td>Bachelor</td>\n",
       "      <td>20/01/2011</td>\n",
       "      <td>Unemployed</td>\n",
       "      <td>M</td>\n",
       "      <td>Suburban</td>\n",
       "      <td>Married</td>\n",
       "      <td>Corporate Auto</td>\n",
       "      <td>Offer1</td>\n",
       "      <td>Call Center</td>\n",
       "      <td>SUV</td>\n",
       "      <td>Medsize</td>\n",
       "    </tr>\n",
       "    <tr>\n",
       "      <th>4</th>\n",
       "      <td>Washington</td>\n",
       "      <td>0</td>\n",
       "      <td>Basic</td>\n",
       "      <td>Bachelor</td>\n",
       "      <td>02/03/2011</td>\n",
       "      <td>Employed</td>\n",
       "      <td>M</td>\n",
       "      <td>Rural</td>\n",
       "      <td>Single</td>\n",
       "      <td>Personal Auto</td>\n",
       "      <td>Offer1</td>\n",
       "      <td>Agent</td>\n",
       "      <td>Four-Door Car</td>\n",
       "      <td>Medsize</td>\n",
       "    </tr>\n",
       "  </tbody>\n",
       "</table>\n",
       "</div>"
      ],
      "text/plain": [
       "        state  response  coverage education effective_to_date  \\\n",
       "0  Washington         0     Basic  Bachelor        24/02/2011   \n",
       "1     Arizona         0  Extended  Bachelor        31/01/2011   \n",
       "2      Nevada         0   Premium  Bachelor        19/02/2011   \n",
       "3  California         0     Basic  Bachelor        20/01/2011   \n",
       "4  Washington         0     Basic  Bachelor        02/03/2011   \n",
       "\n",
       "  employment_status gender location_code marital_status     policy_type  \\\n",
       "0          Employed      F      Suburban        Married  Corporate Auto   \n",
       "1        Unemployed      F      Suburban         Single   Personal Auto   \n",
       "2          Employed      F      Suburban        Married   Personal Auto   \n",
       "3        Unemployed      M      Suburban        Married  Corporate Auto   \n",
       "4          Employed      M         Rural         Single   Personal Auto   \n",
       "\n",
       "  renew_offer_type sales_channel  vehicle_class vehicle_size  \n",
       "0           Offer1         Agent   Two-Door Car      Medsize  \n",
       "1           Offer3         Agent  Four-Door Car      Medsize  \n",
       "2           Offer1         Agent   Two-Door Car      Medsize  \n",
       "3           Offer1   Call Center            SUV      Medsize  \n",
       "4           Offer1         Agent  Four-Door Car      Medsize  "
      ]
     },
     "execution_count": 16,
     "metadata": {},
     "output_type": "execute_result"
    }
   ],
   "source": [
    "categorical_df.head()"
   ]
  },
  {
   "cell_type": "code",
   "execution_count": 17,
   "id": "94ac86c5",
   "metadata": {},
   "outputs": [],
   "source": [
    "categorical_df[['response']] = categorical_df[['response']].apply(pd.to_numeric)"
   ]
  },
  {
   "cell_type": "code",
   "execution_count": 18,
   "id": "32a563df",
   "metadata": {},
   "outputs": [
    {
     "name": "stderr",
     "output_type": "stream",
     "text": [
      "/opt/anaconda3/lib/python3.9/site-packages/seaborn/_decorators.py:36: FutureWarning: Pass the following variable as a keyword arg: x. From version 0.12, the only valid positional argument will be `data`, and passing other arguments without an explicit keyword will result in an error or misinterpretation.\n",
      "  warnings.warn(\n"
     ]
    },
    {
     "data": {
      "image/png": "[encoded data removed]",
      "text/plain": [
       "<Figure size 640x480 with 1 Axes>"
      ]
     },
     "metadata": {},
     "output_type": "display_data"
    },
    {
     "name": "stderr",
     "output_type": "stream",
     "text": [
      "/opt/anaconda3/lib/python3.9/site-packages/seaborn/_decorators.py:36: FutureWarning: Pass the following variable as a keyword arg: x. From version 0.12, the only valid positional argument will be `data`, and passing other arguments without an explicit keyword will result in an error or misinterpretation.\n",
      "  warnings.warn(\n"
     ]
    },
    {
     "data": {
      "image/png": "[encoded data removed]",
      "text/plain": [
       "<Figure size 640x480 with 1 Axes>"
      ]
     },
     "metadata": {},
     "output_type": "display_data"
    },
    {
     "name": "stderr",
     "output_type": "stream",
     "text": [
      "/opt/anaconda3/lib/python3.9/site-packages/seaborn/_decorators.py:36: FutureWarning: Pass the following variable as a keyword arg: x. From version 0.12, the only valid positional argument will be `data`, and passing other arguments without an explicit keyword will result in an error or misinterpretation.\n",
      "  warnings.warn(\n"
     ]
    },
    {
     "data": {
      "image/png": "[encoded data removed]",
      "text/plain": [
       "<Figure size 640x480 with 1 Axes>"
      ]
     },
     "metadata": {},
     "output_type": "display_data"
    },
    {
     "name": "stderr",
     "output_type": "stream",
     "text": [
      "/opt/anaconda3/lib/python3.9/site-packages/seaborn/_decorators.py:36: FutureWarning: Pass the following variable as a keyword arg: x. From version 0.12, the only valid positional argument will be `data`, and passing other arguments without an explicit keyword will result in an error or misinterpretation.\n",
      "  warnings.warn(\n"
     ]
    },
    {
     "data": {
      "image/png": "[encoded data removed]",
      "text/plain": [
       "<Figure size 640x480 with 1 Axes>"
      ]
     },
     "metadata": {},
     "output_type": "display_data"
    },
    {
     "name": "stderr",
     "output_type": "stream",
     "text": [
      "/opt/anaconda3/lib/python3.9/site-packages/seaborn/_decorators.py:36: FutureWarning: Pass the following variable as a keyword arg: x. From version 0.12, the only valid positional argument will be `data`, and passing other arguments without an explicit keyword will result in an error or misinterpretation.\n",
      "  warnings.warn(\n"
     ]
    },
    {
     "data": {
      "image/png": "[encoded data removed]",
      "text/plain": [
       "<Figure size 640x480 with 1 Axes>"
      ]
     },
     "metadata": {},
     "output_type": "display_data"
    },
    {
     "name": "stderr",
     "output_type": "stream",
     "text": [
      "/opt/anaconda3/lib/python3.9/site-packages/seaborn/_decorators.py:36: FutureWarning: Pass the following variable as a keyword arg: x. From version 0.12, the only valid positional argument will be `data`, and passing other arguments without an explicit keyword will result in an error or misinterpretation.\n",
      "  warnings.warn(\n"
     ]
    },
    {
     "data": {
      "image/png": "[encoded data removed]",
      "text/plain": [
       "<Figure size 640x480 with 1 Axes>"
      ]
     },
     "metadata": {},
     "output_type": "display_data"
    },
    {
     "name": "stderr",
     "output_type": "stream",
     "text": [
      "/opt/anaconda3/lib/python3.9/site-packages/seaborn/_decorators.py:36: FutureWarning: Pass the following variable as a keyword arg: x. From version 0.12, the only valid positional argument will be `data`, and passing other arguments without an explicit keyword will result in an error or misinterpretation.\n",
      "  warnings.warn(\n"
     ]
    },
    {
     "data": {
      "image/png": "[encoded data removed]",
      "text/plain": [
       "<Figure size 640x480 with 1 Axes>"
      ]
     },
     "metadata": {},
     "output_type": "display_data"
    },
    {
     "name": "stderr",
     "output_type": "stream",
     "text": [
      "/opt/anaconda3/lib/python3.9/site-packages/seaborn/_decorators.py:36: FutureWarning: Pass the following variable as a keyword arg: x. From version 0.12, the only valid positional argument will be `data`, and passing other arguments without an explicit keyword will result in an error or misinterpretation.\n",
      "  warnings.warn(\n"
     ]
    },
    {
     "data": {
      "image/png": "[encoded data removed]",
      "text/plain": [
       "<Figure size 640x480 with 1 Axes>"
      ]
     },
     "metadata": {},
     "output_type": "display_data"
    }
   ],
   "source": [
    "for i in numerical_df:\n",
    "    sns.boxplot(numerical_df[i])\n",
    "    plt.show()"
   ]
  },
  {
   "cell_type": "markdown",
   "id": "1feba001",
   "metadata": {},
   "source": [
    "# Lab | Comparing regression models"
   ]
  },
  {
   "cell_type": "code",
   "execution_count": 19,
   "id": "2b74d3b5",
   "metadata": {},
   "outputs": [
    {
     "data": {
      "text/plain": [
       "(8989, 22)"
      ]
     },
     "execution_count": 19,
     "metadata": {},
     "output_type": "execute_result"
    }
   ],
   "source": [
    "#2.Decided to find the outliers before the x-y split and then normalizing\n",
    "data_all = pd.concat([numerical_df, categorical_df], axis=1)\n",
    "data1 = data_all.copy()\n",
    "data1 = data_all[data_all['total_claim_amount'] < 2200]\n",
    "data1 = data_all[data_all['customer_lifetime_value'] < 54000]\n",
    "data1 = data_all[data_all['monthly_premium_auto'] < 210]\n",
    "data1.shape"
   ]
  },
  {
   "cell_type": "code",
   "execution_count": 20,
   "id": "1e2f2f57",
   "metadata": {},
   "outputs": [],
   "source": [
    "#1. Performing the x-y split\n",
    "y = data1['total_claim_amount']\n",
    "X = data1.drop(['total_claim_amount'], axis=1)\n",
    "\n",
    "from sklearn.linear_model import LinearRegression\n",
    "from sklearn.model_selection import train_test_split\n",
    "from sklearn.metrics import r2_score"
   ]
  },
  {
   "cell_type": "code",
   "execution_count": 21,
   "id": "da0a4fdf",
   "metadata": {},
   "outputs": [
    {
     "data": {
      "text/plain": [
       "(7191, 21)"
      ]
     },
     "metadata": {},
     "output_type": "display_data"
    },
    {
     "data": {
      "text/plain": [
       "(1798, 21)"
      ]
     },
     "metadata": {},
     "output_type": "display_data"
    },
    {
     "data": {
      "text/plain": [
       "(7191,)"
      ]
     },
     "metadata": {},
     "output_type": "display_data"
    },
    {
     "data": {
      "text/plain": [
       "(1798,)"
      ]
     },
     "metadata": {},
     "output_type": "display_data"
    }
   ],
   "source": [
    "X_train, X_test, y_train, y_test = train_test_split(X, y, test_size=0.2, random_state=1234)\n",
    "\n",
    "display(X_train.shape)\n",
    "display(X_test.shape)\n",
    "display(y_train.shape)\n",
    "display(y_test.shape)"
   ]
  },
  {
   "cell_type": "code",
   "execution_count": 22,
   "id": "299e7e33",
   "metadata": {},
   "outputs": [
    {
     "data": {
      "text/html": [
       "<div>\n",
       "<style scoped>\n",
       "    .dataframe tbody tr th:only-of-type {\n",
       "        vertical-align: middle;\n",
       "    }\n",
       "\n",
       "    .dataframe tbody tr th {\n",
       "        vertical-align: top;\n",
       "    }\n",
       "\n",
       "    .dataframe thead th {\n",
       "        text-align: right;\n",
       "    }\n",
       "</style>\n",
       "<table border=\"1\" class=\"dataframe\">\n",
       "  <thead>\n",
       "    <tr style=\"text-align: right;\">\n",
       "      <th></th>\n",
       "      <th>customer_lifetime_value</th>\n",
       "      <th>income</th>\n",
       "      <th>monthly_premium_auto</th>\n",
       "      <th>months_since_last_claim</th>\n",
       "      <th>months_since_policy_inception</th>\n",
       "      <th>number_of_open_complaints</th>\n",
       "      <th>number_of_policies</th>\n",
       "      <th>total_claim_amount</th>\n",
       "      <th>state</th>\n",
       "      <th>response</th>\n",
       "      <th>...</th>\n",
       "      <th>effective_to_date</th>\n",
       "      <th>employment_status</th>\n",
       "      <th>gender</th>\n",
       "      <th>location_code</th>\n",
       "      <th>marital_status</th>\n",
       "      <th>policy_type</th>\n",
       "      <th>renew_offer_type</th>\n",
       "      <th>sales_channel</th>\n",
       "      <th>vehicle_class</th>\n",
       "      <th>vehicle_size</th>\n",
       "    </tr>\n",
       "  </thead>\n",
       "  <tbody>\n",
       "    <tr>\n",
       "      <th>0</th>\n",
       "      <td>2763.519279</td>\n",
       "      <td>56274</td>\n",
       "      <td>69</td>\n",
       "      <td>32</td>\n",
       "      <td>5</td>\n",
       "      <td>0</td>\n",
       "      <td>1</td>\n",
       "      <td>384.811147</td>\n",
       "      <td>Washington</td>\n",
       "      <td>0</td>\n",
       "      <td>...</td>\n",
       "      <td>24/02/2011</td>\n",
       "      <td>Employed</td>\n",
       "      <td>F</td>\n",
       "      <td>Suburban</td>\n",
       "      <td>Married</td>\n",
       "      <td>Corporate Auto</td>\n",
       "      <td>Offer1</td>\n",
       "      <td>Agent</td>\n",
       "      <td>Two-Door Car</td>\n",
       "      <td>Medsize</td>\n",
       "    </tr>\n",
       "    <tr>\n",
       "      <th>1</th>\n",
       "      <td>6979.535903</td>\n",
       "      <td>0</td>\n",
       "      <td>94</td>\n",
       "      <td>13</td>\n",
       "      <td>42</td>\n",
       "      <td>0</td>\n",
       "      <td>8</td>\n",
       "      <td>1131.464935</td>\n",
       "      <td>Arizona</td>\n",
       "      <td>0</td>\n",
       "      <td>...</td>\n",
       "      <td>31/01/2011</td>\n",
       "      <td>Unemployed</td>\n",
       "      <td>F</td>\n",
       "      <td>Suburban</td>\n",
       "      <td>Single</td>\n",
       "      <td>Personal Auto</td>\n",
       "      <td>Offer3</td>\n",
       "      <td>Agent</td>\n",
       "      <td>Four-Door Car</td>\n",
       "      <td>Medsize</td>\n",
       "    </tr>\n",
       "    <tr>\n",
       "      <th>2</th>\n",
       "      <td>12887.431650</td>\n",
       "      <td>48767</td>\n",
       "      <td>108</td>\n",
       "      <td>18</td>\n",
       "      <td>38</td>\n",
       "      <td>0</td>\n",
       "      <td>2</td>\n",
       "      <td>566.472247</td>\n",
       "      <td>Nevada</td>\n",
       "      <td>0</td>\n",
       "      <td>...</td>\n",
       "      <td>19/02/2011</td>\n",
       "      <td>Employed</td>\n",
       "      <td>F</td>\n",
       "      <td>Suburban</td>\n",
       "      <td>Married</td>\n",
       "      <td>Personal Auto</td>\n",
       "      <td>Offer1</td>\n",
       "      <td>Agent</td>\n",
       "      <td>Two-Door Car</td>\n",
       "      <td>Medsize</td>\n",
       "    </tr>\n",
       "    <tr>\n",
       "      <th>3</th>\n",
       "      <td>7645.861827</td>\n",
       "      <td>0</td>\n",
       "      <td>106</td>\n",
       "      <td>18</td>\n",
       "      <td>65</td>\n",
       "      <td>0</td>\n",
       "      <td>7</td>\n",
       "      <td>529.881344</td>\n",
       "      <td>California</td>\n",
       "      <td>0</td>\n",
       "      <td>...</td>\n",
       "      <td>20/01/2011</td>\n",
       "      <td>Unemployed</td>\n",
       "      <td>M</td>\n",
       "      <td>Suburban</td>\n",
       "      <td>Married</td>\n",
       "      <td>Corporate Auto</td>\n",
       "      <td>Offer1</td>\n",
       "      <td>Call Center</td>\n",
       "      <td>SUV</td>\n",
       "      <td>Medsize</td>\n",
       "    </tr>\n",
       "    <tr>\n",
       "      <th>4</th>\n",
       "      <td>2813.692575</td>\n",
       "      <td>43836</td>\n",
       "      <td>73</td>\n",
       "      <td>12</td>\n",
       "      <td>44</td>\n",
       "      <td>0</td>\n",
       "      <td>1</td>\n",
       "      <td>138.130879</td>\n",
       "      <td>Washington</td>\n",
       "      <td>0</td>\n",
       "      <td>...</td>\n",
       "      <td>02/03/2011</td>\n",
       "      <td>Employed</td>\n",
       "      <td>M</td>\n",
       "      <td>Rural</td>\n",
       "      <td>Single</td>\n",
       "      <td>Personal Auto</td>\n",
       "      <td>Offer1</td>\n",
       "      <td>Agent</td>\n",
       "      <td>Four-Door Car</td>\n",
       "      <td>Medsize</td>\n",
       "    </tr>\n",
       "  </tbody>\n",
       "</table>\n",
       "<p>5 rows × 22 columns</p>\n",
       "</div>"
      ],
      "text/plain": [
       "   customer_lifetime_value  income  monthly_premium_auto  \\\n",
       "0              2763.519279   56274                    69   \n",
       "1              6979.535903       0                    94   \n",
       "2             12887.431650   48767                   108   \n",
       "3              7645.861827       0                   106   \n",
       "4              2813.692575   43836                    73   \n",
       "\n",
       "   months_since_last_claim  months_since_policy_inception  \\\n",
       "0                       32                              5   \n",
       "1                       13                             42   \n",
       "2                       18                             38   \n",
       "3                       18                             65   \n",
       "4                       12                             44   \n",
       "\n",
       "   number_of_open_complaints  number_of_policies  total_claim_amount  \\\n",
       "0                          0                   1          384.811147   \n",
       "1                          0                   8         1131.464935   \n",
       "2                          0                   2          566.472247   \n",
       "3                          0                   7          529.881344   \n",
       "4                          0                   1          138.130879   \n",
       "\n",
       "        state  response  ... effective_to_date employment_status gender  \\\n",
       "0  Washington         0  ...        24/02/2011          Employed      F   \n",
       "1     Arizona         0  ...        31/01/2011        Unemployed      F   \n",
       "2      Nevada         0  ...        19/02/2011          Employed      F   \n",
       "3  California         0  ...        20/01/2011        Unemployed      M   \n",
       "4  Washington         0  ...        02/03/2011          Employed      M   \n",
       "\n",
       "  location_code marital_status     policy_type renew_offer_type sales_channel  \\\n",
       "0      Suburban        Married  Corporate Auto           Offer1         Agent   \n",
       "1      Suburban         Single   Personal Auto           Offer3         Agent   \n",
       "2      Suburban        Married   Personal Auto           Offer1         Agent   \n",
       "3      Suburban        Married  Corporate Auto           Offer1   Call Center   \n",
       "4         Rural         Single   Personal Auto           Offer1         Agent   \n",
       "\n",
       "   vehicle_class vehicle_size  \n",
       "0   Two-Door Car      Medsize  \n",
       "1  Four-Door Car      Medsize  \n",
       "2   Two-Door Car      Medsize  \n",
       "3            SUV      Medsize  \n",
       "4  Four-Door Car      Medsize  \n",
       "\n",
       "[5 rows x 22 columns]"
      ]
     },
     "execution_count": 22,
     "metadata": {},
     "output_type": "execute_result"
    }
   ],
   "source": [
    "customer_df = data1.copy()\n",
    "customer_df.head()"
   ]
  },
  {
   "cell_type": "code",
   "execution_count": 23,
   "id": "5c017445",
   "metadata": {},
   "outputs": [],
   "source": [
    "# data1['income']=data1['income'].replace(0,data1['income'].mean())\n",
    "# data1['income'].value_counts()"
   ]
  },
  {
   "cell_type": "code",
   "execution_count": 24,
   "id": "030e3cc1",
   "metadata": {},
   "outputs": [
    {
     "data": {
      "text/plain": [
       "(7191, 8)"
      ]
     },
     "metadata": {},
     "output_type": "display_data"
    },
    {
     "data": {
      "text/plain": [
       "(7191, 13)"
      ]
     },
     "metadata": {},
     "output_type": "display_data"
    },
    {
     "data": {
      "text/plain": [
       "(1798, 13)"
      ]
     },
     "execution_count": 24,
     "metadata": {},
     "output_type": "execute_result"
    }
   ],
   "source": [
    "X_cat_train = X_train.select_dtypes(['object'])\n",
    "X_cat_test = X_test.select_dtypes(['object'])\n",
    "\n",
    "X_num_train = X_train.select_dtypes(np.number)\n",
    "X_num_test = X_test.select_dtypes(np.number)\n",
    "X_num_train.head()\n",
    "display(X_num_train.shape)\n",
    "X_num_test.shape\n",
    "display(X_cat_train.shape)\n",
    "X_cat_test.shape"
   ]
  },
  {
   "cell_type": "code",
   "execution_count": 25,
   "id": "436d05a3",
   "metadata": {},
   "outputs": [],
   "source": [
    "#3.Normalize the continuous variables. You can use any one method you want.\n",
    "from sklearn.preprocessing import StandardScaler\n",
    "\n",
    "# Scaling data\n",
    "transformer = StandardScaler().fit(X_num_train) # need to keep transformer, fitting the data\n",
    "X_train_num_standardized = transformer.transform(X_num_train)\n",
    "X_train_num_standardized = pd.DataFrame(X_train_num_standardized,columns=X_num_train.columns)\n",
    "#X_test_num_standardized = pd.DataFrame(X_train_num_standardized, columns = X_num_train.columns) #started as X test but used Xtrain that's why it was too big"
   ]
  },
  {
   "cell_type": "code",
   "execution_count": 26,
   "id": "bf30f2fe",
   "metadata": {},
   "outputs": [],
   "source": [
    "X_test_num_standardized = transformer.transform(X_num_test)\n",
    "X_test_norm = pd.DataFrame(X_test_num_standardized, columns = X_num_test.columns)"
   ]
  },
  {
   "cell_type": "code",
   "execution_count": 27,
   "id": "32fdc25d",
   "metadata": {},
   "outputs": [
    {
     "data": {
      "text/html": [
       "<div>\n",
       "<style scoped>\n",
       "    .dataframe tbody tr th:only-of-type {\n",
       "        vertical-align: middle;\n",
       "    }\n",
       "\n",
       "    .dataframe tbody tr th {\n",
       "        vertical-align: top;\n",
       "    }\n",
       "\n",
       "    .dataframe thead th {\n",
       "        text-align: right;\n",
       "    }\n",
       "</style>\n",
       "<table border=\"1\" class=\"dataframe\">\n",
       "  <thead>\n",
       "    <tr style=\"text-align: right;\">\n",
       "      <th></th>\n",
       "      <th>state</th>\n",
       "      <th>education</th>\n",
       "      <th>effective_to_date</th>\n",
       "      <th>gender</th>\n",
       "      <th>marital_status</th>\n",
       "      <th>policy_type</th>\n",
       "      <th>renew_offer_type</th>\n",
       "      <th>sales_channel</th>\n",
       "      <th>vehicle_class</th>\n",
       "    </tr>\n",
       "  </thead>\n",
       "  <tbody>\n",
       "    <tr>\n",
       "      <th>6880</th>\n",
       "      <td>Oregon</td>\n",
       "      <td>Bachelor</td>\n",
       "      <td>02/03/2011</td>\n",
       "      <td>F</td>\n",
       "      <td>Married</td>\n",
       "      <td>Personal Auto</td>\n",
       "      <td>Offer3</td>\n",
       "      <td>Agent</td>\n",
       "      <td>Sports Car</td>\n",
       "    </tr>\n",
       "    <tr>\n",
       "      <th>5430</th>\n",
       "      <td>California</td>\n",
       "      <td>College</td>\n",
       "      <td>02/01/2011</td>\n",
       "      <td>F</td>\n",
       "      <td>Single</td>\n",
       "      <td>Corporate Auto</td>\n",
       "      <td>Offer1</td>\n",
       "      <td>Branch</td>\n",
       "      <td>Four-Door Car</td>\n",
       "    </tr>\n",
       "    <tr>\n",
       "      <th>2772</th>\n",
       "      <td>Nevada</td>\n",
       "      <td>College</td>\n",
       "      <td>24/01/2011</td>\n",
       "      <td>F</td>\n",
       "      <td>Married</td>\n",
       "      <td>Personal Auto</td>\n",
       "      <td>Offer1</td>\n",
       "      <td>Call Center</td>\n",
       "      <td>Two-Door Car</td>\n",
       "    </tr>\n",
       "    <tr>\n",
       "      <th>3526</th>\n",
       "      <td>California</td>\n",
       "      <td>Bachelor</td>\n",
       "      <td>26/02/2011</td>\n",
       "      <td>M</td>\n",
       "      <td>Married</td>\n",
       "      <td>Personal Auto</td>\n",
       "      <td>Offer3</td>\n",
       "      <td>Agent</td>\n",
       "      <td>Four-Door Car</td>\n",
       "    </tr>\n",
       "    <tr>\n",
       "      <th>2210</th>\n",
       "      <td>Arizona</td>\n",
       "      <td>College</td>\n",
       "      <td>01/08/2011</td>\n",
       "      <td>F</td>\n",
       "      <td>Single</td>\n",
       "      <td>Personal Auto</td>\n",
       "      <td>Offer3</td>\n",
       "      <td>Agent</td>\n",
       "      <td>Two-Door Car</td>\n",
       "    </tr>\n",
       "  </tbody>\n",
       "</table>\n",
       "</div>"
      ],
      "text/plain": [
       "           state education effective_to_date gender marital_status  \\\n",
       "6880      Oregon  Bachelor        02/03/2011      F        Married   \n",
       "5430  California   College        02/01/2011      F         Single   \n",
       "2772      Nevada   College        24/01/2011      F        Married   \n",
       "3526  California  Bachelor        26/02/2011      M        Married   \n",
       "2210     Arizona   College        01/08/2011      F         Single   \n",
       "\n",
       "         policy_type renew_offer_type sales_channel  vehicle_class  \n",
       "6880   Personal Auto           Offer3         Agent     Sports Car  \n",
       "5430  Corporate Auto           Offer1        Branch  Four-Door Car  \n",
       "2772   Personal Auto           Offer1   Call Center   Two-Door Car  \n",
       "3526   Personal Auto           Offer3         Agent  Four-Door Car  \n",
       "2210   Personal Auto           Offer3         Agent   Two-Door Car  "
      ]
     },
     "execution_count": 27,
     "metadata": {},
     "output_type": "execute_result"
    }
   ],
   "source": [
    "#4. Encode the categorical variables\n",
    "# One hot encoding for the following variables: 'state','marital_status','policy_type','renew_offer_type','sales_channel','vehicle_class'\n",
    "X_cat_train.head()\n",
    "\n",
    "onehot_train = X_cat_train.drop(['coverage','employment_status','location_code','vehicle_size'],axis = 1)\n",
    "onehot_test = X_cat_test.drop(['coverage','employment_status','location_code','vehicle_size'],axis = 1)\n",
    "onehot_train.head()"
   ]
  },
  {
   "cell_type": "code",
   "execution_count": 28,
   "id": "3f152faf",
   "metadata": {},
   "outputs": [],
   "source": [
    "from sklearn.preprocessing import OneHotEncoder\n",
    "\n",
    "encoder = OneHotEncoder(handle_unknown ='error', drop='first').fit(onehot_train)\n",
    "X_train_cat_encoded  = encoder.transform(onehot_train).toarray()\n",
    "X_test_cat_encoded = encoder.transform(onehot_test).toarray()"
   ]
  },
  {
   "cell_type": "code",
   "execution_count": 29,
   "id": "9a55a222",
   "metadata": {},
   "outputs": [
    {
     "data": {
      "text/html": [
       "<div>\n",
       "<style scoped>\n",
       "    .dataframe tbody tr th:only-of-type {\n",
       "        vertical-align: middle;\n",
       "    }\n",
       "\n",
       "    .dataframe tbody tr th {\n",
       "        vertical-align: top;\n",
       "    }\n",
       "\n",
       "    .dataframe thead th {\n",
       "        text-align: right;\n",
       "    }\n",
       "</style>\n",
       "<table border=\"1\" class=\"dataframe\">\n",
       "  <thead>\n",
       "    <tr style=\"text-align: right;\">\n",
       "      <th></th>\n",
       "      <th>coverage</th>\n",
       "      <th>employment_status</th>\n",
       "      <th>location_code</th>\n",
       "      <th>vehicle_size</th>\n",
       "    </tr>\n",
       "  </thead>\n",
       "  <tbody>\n",
       "    <tr>\n",
       "      <th>3317</th>\n",
       "      <td>Basic</td>\n",
       "      <td>Employed</td>\n",
       "      <td>Urban</td>\n",
       "      <td>Large</td>\n",
       "    </tr>\n",
       "    <tr>\n",
       "      <th>6156</th>\n",
       "      <td>Basic</td>\n",
       "      <td>Unemployed</td>\n",
       "      <td>Suburban</td>\n",
       "      <td>Medsize</td>\n",
       "    </tr>\n",
       "    <tr>\n",
       "      <th>4961</th>\n",
       "      <td>Basic</td>\n",
       "      <td>Employed</td>\n",
       "      <td>Suburban</td>\n",
       "      <td>Medsize</td>\n",
       "    </tr>\n",
       "    <tr>\n",
       "      <th>6350</th>\n",
       "      <td>Extended</td>\n",
       "      <td>Employed</td>\n",
       "      <td>Urban</td>\n",
       "      <td>Medsize</td>\n",
       "    </tr>\n",
       "    <tr>\n",
       "      <th>8162</th>\n",
       "      <td>Extended</td>\n",
       "      <td>Employed</td>\n",
       "      <td>Suburban</td>\n",
       "      <td>Medsize</td>\n",
       "    </tr>\n",
       "  </tbody>\n",
       "</table>\n",
       "</div>"
      ],
      "text/plain": [
       "      coverage employment_status location_code vehicle_size\n",
       "3317     Basic          Employed         Urban        Large\n",
       "6156     Basic        Unemployed      Suburban      Medsize\n",
       "4961     Basic          Employed      Suburban      Medsize\n",
       "6350  Extended          Employed         Urban      Medsize\n",
       "8162  Extended          Employed      Suburban      Medsize"
      ]
     },
     "execution_count": 29,
     "metadata": {},
     "output_type": "execute_result"
    }
   ],
   "source": [
    "ordinal_train = X_cat_train.drop(['state','education','effective_to_date','gender','marital_status','policy_type','renew_offer_type','sales_channel','vehicle_class'],axis = 1)\n",
    "ordinal_test = X_cat_test.drop(['state','education','effective_to_date','gender','marital_status','policy_type','renew_offer_type','sales_channel','vehicle_class'],axis = 1)\n",
    "ordinal_train.head()\n",
    "ordinal_test.head()\n"
   ]
  },
  {
   "cell_type": "code",
   "execution_count": 30,
   "id": "1542fc09",
   "metadata": {},
   "outputs": [
    {
     "data": {
      "text/plain": [
       "Basic       4467\n",
       "Extended    2098\n",
       "Premium      626\n",
       "Name: coverage, dtype: int64"
      ]
     },
     "execution_count": 30,
     "metadata": {},
     "output_type": "execute_result"
    }
   ],
   "source": [
    "ordinal_train['coverage'].value_counts()"
   ]
  },
  {
   "cell_type": "code",
   "execution_count": 31,
   "id": "bae25459",
   "metadata": {},
   "outputs": [
    {
     "data": {
      "text/plain": [
       "Employed         4457\n",
       "Unemployed       1858\n",
       "Medical Leave     339\n",
       "Disabled          320\n",
       "Retired           217\n",
       "Name: employment_status, dtype: int64"
      ]
     },
     "execution_count": 31,
     "metadata": {},
     "output_type": "execute_result"
    }
   ],
   "source": [
    "ordinal_train['employment_status'].value_counts()"
   ]
  },
  {
   "cell_type": "code",
   "execution_count": 32,
   "id": "d603b86f",
   "metadata": {},
   "outputs": [
    {
     "data": {
      "text/plain": [
       "Suburban    4516\n",
       "Rural       1414\n",
       "Urban       1261\n",
       "Name: location_code, dtype: int64"
      ]
     },
     "execution_count": 32,
     "metadata": {},
     "output_type": "execute_result"
    }
   ],
   "source": [
    "ordinal_train['location_code'].value_counts()"
   ]
  },
  {
   "cell_type": "code",
   "execution_count": 33,
   "id": "a5b63060",
   "metadata": {},
   "outputs": [
    {
     "data": {
      "text/plain": [
       "Medsize    5074\n",
       "Small      1352\n",
       "Large       765\n",
       "Name: vehicle_size, dtype: int64"
      ]
     },
     "execution_count": 33,
     "metadata": {},
     "output_type": "execute_result"
    }
   ],
   "source": [
    "ordinal_train['vehicle_size'].value_counts()"
   ]
  },
  {
   "cell_type": "code",
   "execution_count": 34,
   "id": "c3dd48e7",
   "metadata": {},
   "outputs": [],
   "source": [
    "def coverage(x):\n",
    "    if 'Basic' in x:\n",
    "        return \"0\"\n",
    "    elif 'Extended' in x:\n",
    "        return \"1\"\n",
    "    else:\n",
    "        return '2'\n",
    "    \n",
    "ordinal_train['coverage'] = ordinal_train['coverage'].apply(coverage)\n",
    "ordinal_test['coverage'] = ordinal_test['coverage'].apply(coverage)"
   ]
  },
  {
   "cell_type": "code",
   "execution_count": 35,
   "id": "8c8c219c",
   "metadata": {},
   "outputs": [],
   "source": [
    "def employment_status(x):\n",
    "    if 'Employed' in x:\n",
    "        return \"0\"\n",
    "    elif 'Unemployed' in x:\n",
    "        return \"1\"\n",
    "    elif 'Medical Leave' in x:\n",
    "        return \"2\"\n",
    "    elif 'Disabled' in x:\n",
    "        return \"3\"\n",
    "    else:\n",
    "        return '4'\n",
    "    \n",
    "ordinal_train['employment_status'] = ordinal_train['employment_status'].apply(employment_status)\n",
    "ordinal_test['employment_status'] = ordinal_test['employment_status'].apply(employment_status)"
   ]
  },
  {
   "cell_type": "code",
   "execution_count": 36,
   "id": "2f2df6e2",
   "metadata": {},
   "outputs": [],
   "source": [
    "def location_code(x):\n",
    "    if 'Suburban' in x:\n",
    "        return \"0\"\n",
    "    elif 'Rural' in x:\n",
    "        return \"1\"\n",
    "    else:\n",
    "        return '2'\n",
    "    \n",
    "ordinal_train['location_code'] = ordinal_train['location_code'].apply(location_code)\n",
    "ordinal_test['location_code'] = ordinal_test['location_code'].apply(location_code)"
   ]
  },
  {
   "cell_type": "code",
   "execution_count": 37,
   "id": "729cac55",
   "metadata": {},
   "outputs": [],
   "source": [
    "def vehicle_size(x):\n",
    "    if 'Medsize' in x:\n",
    "        return \"0\"\n",
    "    elif 'Small' in x:\n",
    "        return \"1\"\n",
    "    else:\n",
    "        return '2'\n",
    "    \n",
    "ordinal_train['vehicle_size'] = ordinal_train['vehicle_size'].apply(vehicle_size)\n",
    "ordinal_test['vehicle_size'] = ordinal_test['vehicle_size'].apply(vehicle_size)"
   ]
  },
  {
   "cell_type": "code",
   "execution_count": 38,
   "id": "b51b43cf",
   "metadata": {},
   "outputs": [
    {
     "data": {
      "text/html": [
       "<div>\n",
       "<style scoped>\n",
       "    .dataframe tbody tr th:only-of-type {\n",
       "        vertical-align: middle;\n",
       "    }\n",
       "\n",
       "    .dataframe tbody tr th {\n",
       "        vertical-align: top;\n",
       "    }\n",
       "\n",
       "    .dataframe thead th {\n",
       "        text-align: right;\n",
       "    }\n",
       "</style>\n",
       "<table border=\"1\" class=\"dataframe\">\n",
       "  <thead>\n",
       "    <tr style=\"text-align: right;\">\n",
       "      <th></th>\n",
       "      <th>coverage</th>\n",
       "      <th>employment_status</th>\n",
       "      <th>location_code</th>\n",
       "      <th>vehicle_size</th>\n",
       "    </tr>\n",
       "  </thead>\n",
       "  <tbody>\n",
       "    <tr>\n",
       "      <th>6880</th>\n",
       "      <td>0</td>\n",
       "      <td>0</td>\n",
       "      <td>1</td>\n",
       "      <td>0</td>\n",
       "    </tr>\n",
       "    <tr>\n",
       "      <th>5430</th>\n",
       "      <td>1</td>\n",
       "      <td>4</td>\n",
       "      <td>0</td>\n",
       "      <td>1</td>\n",
       "    </tr>\n",
       "    <tr>\n",
       "      <th>2772</th>\n",
       "      <td>1</td>\n",
       "      <td>0</td>\n",
       "      <td>2</td>\n",
       "      <td>0</td>\n",
       "    </tr>\n",
       "    <tr>\n",
       "      <th>3526</th>\n",
       "      <td>0</td>\n",
       "      <td>0</td>\n",
       "      <td>0</td>\n",
       "      <td>0</td>\n",
       "    </tr>\n",
       "    <tr>\n",
       "      <th>2210</th>\n",
       "      <td>0</td>\n",
       "      <td>1</td>\n",
       "      <td>0</td>\n",
       "      <td>1</td>\n",
       "    </tr>\n",
       "  </tbody>\n",
       "</table>\n",
       "</div>"
      ],
      "text/plain": [
       "     coverage employment_status location_code vehicle_size\n",
       "6880        0                 0             1            0\n",
       "5430        1                 4             0            1\n",
       "2772        1                 0             2            0\n",
       "3526        0                 0             0            0\n",
       "2210        0                 1             0            1"
      ]
     },
     "execution_count": 38,
     "metadata": {},
     "output_type": "execute_result"
    }
   ],
   "source": [
    "ordinal_train.head()"
   ]
  },
  {
   "cell_type": "code",
   "execution_count": 45,
   "id": "f4b93d09",
   "metadata": {},
   "outputs": [],
   "source": [
    "X_train_processed = np.concatenate((ordinal_train, X_train_cat_encoded,X_train_num_standardized), axis=1)\n",
    "X_test_processed = np.concatenate((ordinal_test, X_test_cat_encoded,X_test_norm), axis=1)"
   ]
  },
  {
   "cell_type": "code",
   "execution_count": 51,
   "id": "794bb2d2",
   "metadata": {},
   "outputs": [
    {
     "data": {
      "text/html": [
       "<div>\n",
       "<style scoped>\n",
       "    .dataframe tbody tr th:only-of-type {\n",
       "        vertical-align: middle;\n",
       "    }\n",
       "\n",
       "    .dataframe tbody tr th {\n",
       "        vertical-align: top;\n",
       "    }\n",
       "\n",
       "    .dataframe thead th {\n",
       "        text-align: right;\n",
       "    }\n",
       "</style>\n",
       "<table border=\"1\" class=\"dataframe\">\n",
       "  <thead>\n",
       "    <tr style=\"text-align: right;\">\n",
       "      <th></th>\n",
       "      <th>0</th>\n",
       "      <th>1</th>\n",
       "      <th>2</th>\n",
       "      <th>3</th>\n",
       "      <th>4</th>\n",
       "      <th>5</th>\n",
       "      <th>6</th>\n",
       "      <th>7</th>\n",
       "      <th>8</th>\n",
       "      <th>9</th>\n",
       "      <th>...</th>\n",
       "      <th>83</th>\n",
       "      <th>84</th>\n",
       "      <th>85</th>\n",
       "      <th>86</th>\n",
       "      <th>87</th>\n",
       "      <th>88</th>\n",
       "      <th>89</th>\n",
       "      <th>90</th>\n",
       "      <th>91</th>\n",
       "      <th>92</th>\n",
       "    </tr>\n",
       "  </thead>\n",
       "  <tbody>\n",
       "    <tr>\n",
       "      <th>0</th>\n",
       "      <td>0</td>\n",
       "      <td>0</td>\n",
       "      <td>1</td>\n",
       "      <td>0</td>\n",
       "      <td>0.0</td>\n",
       "      <td>0.0</td>\n",
       "      <td>1.0</td>\n",
       "      <td>0.0</td>\n",
       "      <td>0.0</td>\n",
       "      <td>0.0</td>\n",
       "      <td>...</td>\n",
       "      <td>1.0</td>\n",
       "      <td>0.0</td>\n",
       "      <td>0.033646</td>\n",
       "      <td>1.088732</td>\n",
       "      <td>0.31448</td>\n",
       "      <td>-0.120181</td>\n",
       "      <td>-1.439615</td>\n",
       "      <td>-0.420889</td>\n",
       "      <td>1.684636</td>\n",
       "      <td>-0.402135</td>\n",
       "    </tr>\n",
       "    <tr>\n",
       "      <th>1</th>\n",
       "      <td>1</td>\n",
       "      <td>4</td>\n",
       "      <td>0</td>\n",
       "      <td>1</td>\n",
       "      <td>1.0</td>\n",
       "      <td>0.0</td>\n",
       "      <td>0.0</td>\n",
       "      <td>0.0</td>\n",
       "      <td>1.0</td>\n",
       "      <td>0.0</td>\n",
       "      <td>...</td>\n",
       "      <td>0.0</td>\n",
       "      <td>0.0</td>\n",
       "      <td>2.652521</td>\n",
       "      <td>-0.779326</td>\n",
       "      <td>0.21064</td>\n",
       "      <td>-1.407548</td>\n",
       "      <td>0.639486</td>\n",
       "      <td>-0.420889</td>\n",
       "      <td>-0.404815</td>\n",
       "      <td>2.486728</td>\n",
       "    </tr>\n",
       "    <tr>\n",
       "      <th>2</th>\n",
       "      <td>1</td>\n",
       "      <td>0</td>\n",
       "      <td>2</td>\n",
       "      <td>0</td>\n",
       "      <td>0.0</td>\n",
       "      <td>1.0</td>\n",
       "      <td>0.0</td>\n",
       "      <td>0.0</td>\n",
       "      <td>1.0</td>\n",
       "      <td>0.0</td>\n",
       "      <td>...</td>\n",
       "      <td>0.0</td>\n",
       "      <td>1.0</td>\n",
       "      <td>-0.086565</td>\n",
       "      <td>0.716186</td>\n",
       "      <td>0.00296</td>\n",
       "      <td>0.771074</td>\n",
       "      <td>-0.97361</td>\n",
       "      <td>-0.420889</td>\n",
       "      <td>0.013075</td>\n",
       "      <td>-0.402135</td>\n",
       "    </tr>\n",
       "    <tr>\n",
       "      <th>3</th>\n",
       "      <td>0</td>\n",
       "      <td>0</td>\n",
       "      <td>0</td>\n",
       "      <td>0</td>\n",
       "      <td>1.0</td>\n",
       "      <td>0.0</td>\n",
       "      <td>0.0</td>\n",
       "      <td>0.0</td>\n",
       "      <td>0.0</td>\n",
       "      <td>0.0</td>\n",
       "      <td>...</td>\n",
       "      <td>0.0</td>\n",
       "      <td>0.0</td>\n",
       "      <td>-0.808287</td>\n",
       "      <td>1.284239</td>\n",
       "      <td>-1.000826</td>\n",
       "      <td>-0.318237</td>\n",
       "      <td>-0.758531</td>\n",
       "      <td>-0.420889</td>\n",
       "      <td>-0.822705</td>\n",
       "      <td>-0.402135</td>\n",
       "    </tr>\n",
       "    <tr>\n",
       "      <th>4</th>\n",
       "      <td>0</td>\n",
       "      <td>1</td>\n",
       "      <td>0</td>\n",
       "      <td>1</td>\n",
       "      <td>0.0</td>\n",
       "      <td>0.0</td>\n",
       "      <td>0.0</td>\n",
       "      <td>0.0</td>\n",
       "      <td>1.0</td>\n",
       "      <td>0.0</td>\n",
       "      <td>...</td>\n",
       "      <td>0.0</td>\n",
       "      <td>1.0</td>\n",
       "      <td>-0.898745</td>\n",
       "      <td>-1.225943</td>\n",
       "      <td>-0.72392</td>\n",
       "      <td>0.176904</td>\n",
       "      <td>-1.009457</td>\n",
       "      <td>5.090055</td>\n",
       "      <td>-0.822705</td>\n",
       "      <td>-0.402135</td>\n",
       "    </tr>\n",
       "    <tr>\n",
       "      <th>...</th>\n",
       "      <td>...</td>\n",
       "      <td>...</td>\n",
       "      <td>...</td>\n",
       "      <td>...</td>\n",
       "      <td>...</td>\n",
       "      <td>...</td>\n",
       "      <td>...</td>\n",
       "      <td>...</td>\n",
       "      <td>...</td>\n",
       "      <td>...</td>\n",
       "      <td>...</td>\n",
       "      <td>...</td>\n",
       "      <td>...</td>\n",
       "      <td>...</td>\n",
       "      <td>...</td>\n",
       "      <td>...</td>\n",
       "      <td>...</td>\n",
       "      <td>...</td>\n",
       "      <td>...</td>\n",
       "      <td>...</td>\n",
       "      <td>...</td>\n",
       "    </tr>\n",
       "    <tr>\n",
       "      <th>7186</th>\n",
       "      <td>0</td>\n",
       "      <td>1</td>\n",
       "      <td>1</td>\n",
       "      <td>0</td>\n",
       "      <td>0.0</td>\n",
       "      <td>0.0</td>\n",
       "      <td>1.0</td>\n",
       "      <td>0.0</td>\n",
       "      <td>1.0</td>\n",
       "      <td>0.0</td>\n",
       "      <td>...</td>\n",
       "      <td>0.0</td>\n",
       "      <td>0.0</td>\n",
       "      <td>-0.805098</td>\n",
       "      <td>-1.225943</td>\n",
       "      <td>-0.72392</td>\n",
       "      <td>0.275932</td>\n",
       "      <td>-0.041599</td>\n",
       "      <td>-0.420889</td>\n",
       "      <td>-0.822705</td>\n",
       "      <td>-0.402135</td>\n",
       "    </tr>\n",
       "    <tr>\n",
       "      <th>7187</th>\n",
       "      <td>1</td>\n",
       "      <td>1</td>\n",
       "      <td>2</td>\n",
       "      <td>0</td>\n",
       "      <td>1.0</td>\n",
       "      <td>0.0</td>\n",
       "      <td>0.0</td>\n",
       "      <td>0.0</td>\n",
       "      <td>1.0</td>\n",
       "      <td>0.0</td>\n",
       "      <td>...</td>\n",
       "      <td>0.0</td>\n",
       "      <td>0.0</td>\n",
       "      <td>-0.630123</td>\n",
       "      <td>-1.225943</td>\n",
       "      <td>0.245254</td>\n",
       "      <td>0.771074</td>\n",
       "      <td>-1.475462</td>\n",
       "      <td>-0.420889</td>\n",
       "      <td>-0.822705</td>\n",
       "      <td>-0.402135</td>\n",
       "    </tr>\n",
       "    <tr>\n",
       "      <th>7188</th>\n",
       "      <td>0</td>\n",
       "      <td>1</td>\n",
       "      <td>0</td>\n",
       "      <td>1</td>\n",
       "      <td>0.0</td>\n",
       "      <td>0.0</td>\n",
       "      <td>0.0</td>\n",
       "      <td>1.0</td>\n",
       "      <td>0.0</td>\n",
       "      <td>0.0</td>\n",
       "      <td>...</td>\n",
       "      <td>0.0</td>\n",
       "      <td>0.0</td>\n",
       "      <td>-0.469252</td>\n",
       "      <td>-1.225943</td>\n",
       "      <td>-0.72392</td>\n",
       "      <td>-0.71435</td>\n",
       "      <td>0.926258</td>\n",
       "      <td>-0.420889</td>\n",
       "      <td>0.013075</td>\n",
       "      <td>-0.402135</td>\n",
       "    </tr>\n",
       "    <tr>\n",
       "      <th>7189</th>\n",
       "      <td>0</td>\n",
       "      <td>2</td>\n",
       "      <td>2</td>\n",
       "      <td>0</td>\n",
       "      <td>0.0</td>\n",
       "      <td>0.0</td>\n",
       "      <td>0.0</td>\n",
       "      <td>1.0</td>\n",
       "      <td>1.0</td>\n",
       "      <td>0.0</td>\n",
       "      <td>...</td>\n",
       "      <td>0.0</td>\n",
       "      <td>0.0</td>\n",
       "      <td>-0.384767</td>\n",
       "      <td>-0.493599</td>\n",
       "      <td>-0.72392</td>\n",
       "      <td>-1.506576</td>\n",
       "      <td>0.496099</td>\n",
       "      <td>0.6813</td>\n",
       "      <td>0.430966</td>\n",
       "      <td>-0.402135</td>\n",
       "    </tr>\n",
       "    <tr>\n",
       "      <th>7190</th>\n",
       "      <td>0</td>\n",
       "      <td>0</td>\n",
       "      <td>0</td>\n",
       "      <td>0</td>\n",
       "      <td>1.0</td>\n",
       "      <td>0.0</td>\n",
       "      <td>0.0</td>\n",
       "      <td>0.0</td>\n",
       "      <td>0.0</td>\n",
       "      <td>0.0</td>\n",
       "      <td>...</td>\n",
       "      <td>0.0</td>\n",
       "      <td>0.0</td>\n",
       "      <td>-0.474941</td>\n",
       "      <td>-0.413873</td>\n",
       "      <td>-1.03544</td>\n",
       "      <td>0.473989</td>\n",
       "      <td>-1.116996</td>\n",
       "      <td>1.783489</td>\n",
       "      <td>0.430966</td>\n",
       "      <td>-0.402135</td>\n",
       "    </tr>\n",
       "  </tbody>\n",
       "</table>\n",
       "<p>7191 rows × 93 columns</p>\n",
       "</div>"
      ],
      "text/plain": [
       "     0  1  2  3    4    5    6    7    8    9   ...   83   84        85  \\\n",
       "0     0  0  1  0  0.0  0.0  1.0  0.0  0.0  0.0  ...  1.0  0.0  0.033646   \n",
       "1     1  4  0  1  1.0  0.0  0.0  0.0  1.0  0.0  ...  0.0  0.0  2.652521   \n",
       "2     1  0  2  0  0.0  1.0  0.0  0.0  1.0  0.0  ...  0.0  1.0 -0.086565   \n",
       "3     0  0  0  0  1.0  0.0  0.0  0.0  0.0  0.0  ...  0.0  0.0 -0.808287   \n",
       "4     0  1  0  1  0.0  0.0  0.0  0.0  1.0  0.0  ...  0.0  1.0 -0.898745   \n",
       "...  .. .. .. ..  ...  ...  ...  ...  ...  ...  ...  ...  ...       ...   \n",
       "7186  0  1  1  0  0.0  0.0  1.0  0.0  1.0  0.0  ...  0.0  0.0 -0.805098   \n",
       "7187  1  1  2  0  1.0  0.0  0.0  0.0  1.0  0.0  ...  0.0  0.0 -0.630123   \n",
       "7188  0  1  0  1  0.0  0.0  0.0  1.0  0.0  0.0  ...  0.0  0.0 -0.469252   \n",
       "7189  0  2  2  0  0.0  0.0  0.0  1.0  1.0  0.0  ...  0.0  0.0 -0.384767   \n",
       "7190  0  0  0  0  1.0  0.0  0.0  0.0  0.0  0.0  ...  0.0  0.0 -0.474941   \n",
       "\n",
       "            86        87        88        89        90        91        92  \n",
       "0     1.088732   0.31448 -0.120181 -1.439615 -0.420889  1.684636 -0.402135  \n",
       "1    -0.779326   0.21064 -1.407548  0.639486 -0.420889 -0.404815  2.486728  \n",
       "2     0.716186   0.00296  0.771074  -0.97361 -0.420889  0.013075 -0.402135  \n",
       "3     1.284239 -1.000826 -0.318237 -0.758531 -0.420889 -0.822705 -0.402135  \n",
       "4    -1.225943  -0.72392  0.176904 -1.009457  5.090055 -0.822705 -0.402135  \n",
       "...        ...       ...       ...       ...       ...       ...       ...  \n",
       "7186 -1.225943  -0.72392  0.275932 -0.041599 -0.420889 -0.822705 -0.402135  \n",
       "7187 -1.225943  0.245254  0.771074 -1.475462 -0.420889 -0.822705 -0.402135  \n",
       "7188 -1.225943  -0.72392  -0.71435  0.926258 -0.420889  0.013075 -0.402135  \n",
       "7189 -0.493599  -0.72392 -1.506576  0.496099    0.6813  0.430966 -0.402135  \n",
       "7190 -0.413873  -1.03544  0.473989 -1.116996  1.783489  0.430966 -0.402135  \n",
       "\n",
       "[7191 rows x 93 columns]"
      ]
     },
     "execution_count": 51,
     "metadata": {},
     "output_type": "execute_result"
    }
   ],
   "source": [
    "pd.DataFrame(X_train_processed)\n",
    "#X_test_processed"
   ]
  },
  {
   "cell_type": "code",
   "execution_count": 47,
   "id": "3332f2b3",
   "metadata": {},
   "outputs": [
    {
     "name": "stderr",
     "output_type": "stream",
     "text": [
      "/opt/anaconda3/lib/python3.9/site-packages/pandas/core/indexes/datetimes.py:327: UserWarning: Parsing '24/01/2011' in DD/MM/YYYY format. Provide format or specify infer_datetime_format=True for consistent parsing.\n",
      "  dtarr = DatetimeArray._from_sequence_not_strict(\n",
      "/opt/anaconda3/lib/python3.9/site-packages/pandas/core/indexes/datetimes.py:327: UserWarning: Parsing '26/02/2011' in DD/MM/YYYY format. Provide format or specify infer_datetime_format=True for consistent parsing.\n",
      "  dtarr = DatetimeArray._from_sequence_not_strict(\n",
      "/opt/anaconda3/lib/python3.9/site-packages/pandas/core/indexes/datetimes.py:327: UserWarning: Parsing '17/02/2011' in DD/MM/YYYY format. Provide format or specify infer_datetime_format=True for consistent parsing.\n",
      "  dtarr = DatetimeArray._from_sequence_not_strict(\n",
      "/opt/anaconda3/lib/python3.9/site-packages/pandas/core/indexes/datetimes.py:327: UserWarning: Parsing '13/02/2011' in DD/MM/YYYY format. Provide format or specify infer_datetime_format=True for consistent parsing.\n",
      "  dtarr = DatetimeArray._from_sequence_not_strict(\n",
      "/opt/anaconda3/lib/python3.9/site-packages/pandas/core/indexes/datetimes.py:327: UserWarning: Parsing '27/01/2011' in DD/MM/YYYY format. Provide format or specify infer_datetime_format=True for consistent parsing.\n",
      "  dtarr = DatetimeArray._from_sequence_not_strict(\n",
      "/opt/anaconda3/lib/python3.9/site-packages/pandas/core/indexes/datetimes.py:327: UserWarning: Parsing '19/01/2011' in DD/MM/YYYY format. Provide format or specify infer_datetime_format=True for consistent parsing.\n",
      "  dtarr = DatetimeArray._from_sequence_not_strict(\n",
      "/opt/anaconda3/lib/python3.9/site-packages/pandas/core/indexes/datetimes.py:327: UserWarning: Parsing '13/01/2011' in DD/MM/YYYY format. Provide format or specify infer_datetime_format=True for consistent parsing.\n",
      "  dtarr = DatetimeArray._from_sequence_not_strict(\n",
      "/opt/anaconda3/lib/python3.9/site-packages/pandas/core/indexes/datetimes.py:327: UserWarning: Parsing '25/02/2011' in DD/MM/YYYY format. Provide format or specify infer_datetime_format=True for consistent parsing.\n",
      "  dtarr = DatetimeArray._from_sequence_not_strict(\n",
      "/opt/anaconda3/lib/python3.9/site-packages/pandas/core/indexes/datetimes.py:327: UserWarning: Parsing '18/01/2011' in DD/MM/YYYY format. Provide format or specify infer_datetime_format=True for consistent parsing.\n",
      "  dtarr = DatetimeArray._from_sequence_not_strict(\n",
      "/opt/anaconda3/lib/python3.9/site-packages/pandas/core/indexes/datetimes.py:327: UserWarning: Parsing '31/01/2011' in DD/MM/YYYY format. Provide format or specify infer_datetime_format=True for consistent parsing.\n",
      "  dtarr = DatetimeArray._from_sequence_not_strict(\n",
      "/opt/anaconda3/lib/python3.9/site-packages/pandas/core/indexes/datetimes.py:327: UserWarning: Parsing '23/02/2011' in DD/MM/YYYY format. Provide format or specify infer_datetime_format=True for consistent parsing.\n",
      "  dtarr = DatetimeArray._from_sequence_not_strict(\n",
      "/opt/anaconda3/lib/python3.9/site-packages/pandas/core/indexes/datetimes.py:327: UserWarning: Parsing '20/01/2011' in DD/MM/YYYY format. Provide format or specify infer_datetime_format=True for consistent parsing.\n",
      "  dtarr = DatetimeArray._from_sequence_not_strict(\n",
      "/opt/anaconda3/lib/python3.9/site-packages/pandas/core/indexes/datetimes.py:327: UserWarning: Parsing '16/02/2011' in DD/MM/YYYY format. Provide format or specify infer_datetime_format=True for consistent parsing.\n",
      "  dtarr = DatetimeArray._from_sequence_not_strict(\n",
      "/opt/anaconda3/lib/python3.9/site-packages/pandas/core/indexes/datetimes.py:327: UserWarning: Parsing '26/01/2011' in DD/MM/YYYY format. Provide format or specify infer_datetime_format=True for consistent parsing.\n",
      "  dtarr = DatetimeArray._from_sequence_not_strict(\n",
      "/opt/anaconda3/lib/python3.9/site-packages/pandas/core/indexes/datetimes.py:327: UserWarning: Parsing '24/02/2011' in DD/MM/YYYY format. Provide format or specify infer_datetime_format=True for consistent parsing.\n",
      "  dtarr = DatetimeArray._from_sequence_not_strict(\n",
      "/opt/anaconda3/lib/python3.9/site-packages/pandas/core/indexes/datetimes.py:327: UserWarning: Parsing '15/01/2011' in DD/MM/YYYY format. Provide format or specify infer_datetime_format=True for consistent parsing.\n",
      "  dtarr = DatetimeArray._from_sequence_not_strict(\n",
      "/opt/anaconda3/lib/python3.9/site-packages/pandas/core/indexes/datetimes.py:327: UserWarning: Parsing '20/02/2011' in DD/MM/YYYY format. Provide format or specify infer_datetime_format=True for consistent parsing.\n",
      "  dtarr = DatetimeArray._from_sequence_not_strict(\n",
      "/opt/anaconda3/lib/python3.9/site-packages/pandas/core/indexes/datetimes.py:327: UserWarning: Parsing '22/01/2011' in DD/MM/YYYY format. Provide format or specify infer_datetime_format=True for consistent parsing.\n",
      "  dtarr = DatetimeArray._from_sequence_not_strict(\n",
      "/opt/anaconda3/lib/python3.9/site-packages/pandas/core/indexes/datetimes.py:327: UserWarning: Parsing '17/01/2011' in DD/MM/YYYY format. Provide format or specify infer_datetime_format=True for consistent parsing.\n",
      "  dtarr = DatetimeArray._from_sequence_not_strict(\n",
      "/opt/anaconda3/lib/python3.9/site-packages/pandas/core/indexes/datetimes.py:327: UserWarning: Parsing '15/02/2011' in DD/MM/YYYY format. Provide format or specify infer_datetime_format=True for consistent parsing.\n",
      "  dtarr = DatetimeArray._from_sequence_not_strict(\n",
      "/opt/anaconda3/lib/python3.9/site-packages/pandas/core/indexes/datetimes.py:327: UserWarning: Parsing '14/02/2011' in DD/MM/YYYY format. Provide format or specify infer_datetime_format=True for consistent parsing.\n",
      "  dtarr = DatetimeArray._from_sequence_not_strict(\n",
      "/opt/anaconda3/lib/python3.9/site-packages/pandas/core/indexes/datetimes.py:327: UserWarning: Parsing '28/01/2011' in DD/MM/YYYY format. Provide format or specify infer_datetime_format=True for consistent parsing.\n",
      "  dtarr = DatetimeArray._from_sequence_not_strict(\n",
      "/opt/anaconda3/lib/python3.9/site-packages/pandas/core/indexes/datetimes.py:327: UserWarning: Parsing '21/01/2011' in DD/MM/YYYY format. Provide format or specify infer_datetime_format=True for consistent parsing.\n",
      "  dtarr = DatetimeArray._from_sequence_not_strict(\n",
      "/opt/anaconda3/lib/python3.9/site-packages/pandas/core/indexes/datetimes.py:327: UserWarning: Parsing '14/01/2011' in DD/MM/YYYY format. Provide format or specify infer_datetime_format=True for consistent parsing.\n",
      "  dtarr = DatetimeArray._from_sequence_not_strict(\n",
      "/opt/anaconda3/lib/python3.9/site-packages/pandas/core/indexes/datetimes.py:327: UserWarning: Parsing '28/02/2011' in DD/MM/YYYY format. Provide format or specify infer_datetime_format=True for consistent parsing.\n",
      "  dtarr = DatetimeArray._from_sequence_not_strict(\n",
      "/opt/anaconda3/lib/python3.9/site-packages/pandas/core/indexes/datetimes.py:327: UserWarning: Parsing '29/01/2011' in DD/MM/YYYY format. Provide format or specify infer_datetime_format=True for consistent parsing.\n",
      "  dtarr = DatetimeArray._from_sequence_not_strict(\n",
      "/opt/anaconda3/lib/python3.9/site-packages/pandas/core/indexes/datetimes.py:327: UserWarning: Parsing '30/01/2011' in DD/MM/YYYY format. Provide format or specify infer_datetime_format=True for consistent parsing.\n",
      "  dtarr = DatetimeArray._from_sequence_not_strict(\n",
      "/opt/anaconda3/lib/python3.9/site-packages/pandas/core/indexes/datetimes.py:327: UserWarning: Parsing '19/02/2011' in DD/MM/YYYY format. Provide format or specify infer_datetime_format=True for consistent parsing.\n",
      "  dtarr = DatetimeArray._from_sequence_not_strict(\n",
      "/opt/anaconda3/lib/python3.9/site-packages/pandas/core/indexes/datetimes.py:327: UserWarning: Parsing '18/02/2011' in DD/MM/YYYY format. Provide format or specify infer_datetime_format=True for consistent parsing.\n",
      "  dtarr = DatetimeArray._from_sequence_not_strict(\n",
      "/opt/anaconda3/lib/python3.9/site-packages/pandas/core/indexes/datetimes.py:327: UserWarning: Parsing '27/02/2011' in DD/MM/YYYY format. Provide format or specify infer_datetime_format=True for consistent parsing.\n",
      "  dtarr = DatetimeArray._from_sequence_not_strict(\n",
      "/opt/anaconda3/lib/python3.9/site-packages/pandas/core/indexes/datetimes.py:327: UserWarning: Parsing '23/01/2011' in DD/MM/YYYY format. Provide format or specify infer_datetime_format=True for consistent parsing.\n",
      "  dtarr = DatetimeArray._from_sequence_not_strict(\n",
      "/opt/anaconda3/lib/python3.9/site-packages/pandas/core/indexes/datetimes.py:327: UserWarning: Parsing '25/01/2011' in DD/MM/YYYY format. Provide format or specify infer_datetime_format=True for consistent parsing.\n",
      "  dtarr = DatetimeArray._from_sequence_not_strict(\n",
      "/opt/anaconda3/lib/python3.9/site-packages/pandas/core/indexes/datetimes.py:327: UserWarning: Parsing '21/02/2011' in DD/MM/YYYY format. Provide format or specify infer_datetime_format=True for consistent parsing.\n",
      "  dtarr = DatetimeArray._from_sequence_not_strict(\n",
      "/opt/anaconda3/lib/python3.9/site-packages/pandas/core/indexes/datetimes.py:327: UserWarning: Parsing '16/01/2011' in DD/MM/YYYY format. Provide format or specify infer_datetime_format=True for consistent parsing.\n",
      "  dtarr = DatetimeArray._from_sequence_not_strict(\n",
      "/opt/anaconda3/lib/python3.9/site-packages/pandas/core/indexes/datetimes.py:327: UserWarning: Parsing '22/02/2011' in DD/MM/YYYY format. Provide format or specify infer_datetime_format=True for consistent parsing.\n",
      "  dtarr = DatetimeArray._from_sequence_not_strict(\n"
     ]
    },
    {
     "data": {
      "text/html": [
       "<div>\n",
       "<style scoped>\n",
       "    .dataframe tbody tr th:only-of-type {\n",
       "        vertical-align: middle;\n",
       "    }\n",
       "\n",
       "    .dataframe tbody tr th {\n",
       "        vertical-align: top;\n",
       "    }\n",
       "\n",
       "    .dataframe thead th {\n",
       "        text-align: right;\n",
       "    }\n",
       "</style>\n",
       "<table border=\"1\" class=\"dataframe\">\n",
       "  <thead>\n",
       "    <tr style=\"text-align: right;\">\n",
       "      <th></th>\n",
       "      <th>customer_lifetime_value</th>\n",
       "      <th>income</th>\n",
       "      <th>monthly_premium_auto</th>\n",
       "      <th>months_since_last_claim</th>\n",
       "      <th>months_since_policy_inception</th>\n",
       "      <th>number_of_open_complaints</th>\n",
       "      <th>number_of_policies</th>\n",
       "      <th>state</th>\n",
       "      <th>response</th>\n",
       "      <th>coverage</th>\n",
       "      <th>...</th>\n",
       "      <th>employment_status</th>\n",
       "      <th>gender</th>\n",
       "      <th>location_code</th>\n",
       "      <th>marital_status</th>\n",
       "      <th>policy_type</th>\n",
       "      <th>renew_offer_type</th>\n",
       "      <th>sales_channel</th>\n",
       "      <th>vehicle_class</th>\n",
       "      <th>vehicle_size</th>\n",
       "      <th>day_of_week</th>\n",
       "    </tr>\n",
       "  </thead>\n",
       "  <tbody>\n",
       "    <tr>\n",
       "      <th>6880</th>\n",
       "      <td>8086.011196</td>\n",
       "      <td>70811</td>\n",
       "      <td>100</td>\n",
       "      <td>14</td>\n",
       "      <td>8</td>\n",
       "      <td>0</td>\n",
       "      <td>7</td>\n",
       "      <td>Oregon</td>\n",
       "      <td>0</td>\n",
       "      <td>Basic</td>\n",
       "      <td>...</td>\n",
       "      <td>Employed</td>\n",
       "      <td>F</td>\n",
       "      <td>Rural</td>\n",
       "      <td>Married</td>\n",
       "      <td>Personal Auto</td>\n",
       "      <td>Offer3</td>\n",
       "      <td>Agent</td>\n",
       "      <td>Sports Car</td>\n",
       "      <td>Medsize</td>\n",
       "      <td>3</td>\n",
       "    </tr>\n",
       "    <tr>\n",
       "      <th>5430</th>\n",
       "      <td>25464.820590</td>\n",
       "      <td>13663</td>\n",
       "      <td>97</td>\n",
       "      <td>1</td>\n",
       "      <td>66</td>\n",
       "      <td>0</td>\n",
       "      <td>2</td>\n",
       "      <td>California</td>\n",
       "      <td>1</td>\n",
       "      <td>Extended</td>\n",
       "      <td>...</td>\n",
       "      <td>Retired</td>\n",
       "      <td>F</td>\n",
       "      <td>Suburban</td>\n",
       "      <td>Single</td>\n",
       "      <td>Corporate Auto</td>\n",
       "      <td>Offer1</td>\n",
       "      <td>Branch</td>\n",
       "      <td>Four-Door Car</td>\n",
       "      <td>Small</td>\n",
       "      <td>1</td>\n",
       "    </tr>\n",
       "    <tr>\n",
       "      <th>2772</th>\n",
       "      <td>7288.297591</td>\n",
       "      <td>59414</td>\n",
       "      <td>91</td>\n",
       "      <td>23</td>\n",
       "      <td>21</td>\n",
       "      <td>0</td>\n",
       "      <td>3</td>\n",
       "      <td>Nevada</td>\n",
       "      <td>0</td>\n",
       "      <td>Extended</td>\n",
       "      <td>...</td>\n",
       "      <td>Employed</td>\n",
       "      <td>F</td>\n",
       "      <td>Urban</td>\n",
       "      <td>Married</td>\n",
       "      <td>Personal Auto</td>\n",
       "      <td>Offer1</td>\n",
       "      <td>Call Center</td>\n",
       "      <td>Two-Door Car</td>\n",
       "      <td>Medsize</td>\n",
       "      <td>0</td>\n",
       "    </tr>\n",
       "    <tr>\n",
       "      <th>3526</th>\n",
       "      <td>2498.963061</td>\n",
       "      <td>76792</td>\n",
       "      <td>62</td>\n",
       "      <td>12</td>\n",
       "      <td>27</td>\n",
       "      <td>0</td>\n",
       "      <td>1</td>\n",
       "      <td>California</td>\n",
       "      <td>0</td>\n",
       "      <td>Basic</td>\n",
       "      <td>...</td>\n",
       "      <td>Employed</td>\n",
       "      <td>M</td>\n",
       "      <td>Suburban</td>\n",
       "      <td>Married</td>\n",
       "      <td>Personal Auto</td>\n",
       "      <td>Offer3</td>\n",
       "      <td>Agent</td>\n",
       "      <td>Four-Door Car</td>\n",
       "      <td>Medsize</td>\n",
       "      <td>5</td>\n",
       "    </tr>\n",
       "    <tr>\n",
       "      <th>2210</th>\n",
       "      <td>1898.683686</td>\n",
       "      <td>0</td>\n",
       "      <td>70</td>\n",
       "      <td>17</td>\n",
       "      <td>20</td>\n",
       "      <td>5</td>\n",
       "      <td>1</td>\n",
       "      <td>Arizona</td>\n",
       "      <td>0</td>\n",
       "      <td>Basic</td>\n",
       "      <td>...</td>\n",
       "      <td>Unemployed</td>\n",
       "      <td>F</td>\n",
       "      <td>Suburban</td>\n",
       "      <td>Single</td>\n",
       "      <td>Personal Auto</td>\n",
       "      <td>Offer3</td>\n",
       "      <td>Agent</td>\n",
       "      <td>Two-Door Car</td>\n",
       "      <td>Small</td>\n",
       "      <td>5</td>\n",
       "    </tr>\n",
       "  </tbody>\n",
       "</table>\n",
       "<p>5 rows × 22 columns</p>\n",
       "</div>"
      ],
      "text/plain": [
       "      customer_lifetime_value  income  monthly_premium_auto  \\\n",
       "6880              8086.011196   70811                   100   \n",
       "5430             25464.820590   13663                    97   \n",
       "2772              7288.297591   59414                    91   \n",
       "3526              2498.963061   76792                    62   \n",
       "2210              1898.683686       0                    70   \n",
       "\n",
       "      months_since_last_claim  months_since_policy_inception  \\\n",
       "6880                       14                              8   \n",
       "5430                        1                             66   \n",
       "2772                       23                             21   \n",
       "3526                       12                             27   \n",
       "2210                       17                             20   \n",
       "\n",
       "      number_of_open_complaints  number_of_policies       state  response  \\\n",
       "6880                          0                   7      Oregon         0   \n",
       "5430                          0                   2  California         1   \n",
       "2772                          0                   3      Nevada         0   \n",
       "3526                          0                   1  California         0   \n",
       "2210                          5                   1     Arizona         0   \n",
       "\n",
       "      coverage  ... employment_status gender location_code marital_status  \\\n",
       "6880     Basic  ...          Employed      F         Rural        Married   \n",
       "5430  Extended  ...           Retired      F      Suburban         Single   \n",
       "2772  Extended  ...          Employed      F         Urban        Married   \n",
       "3526     Basic  ...          Employed      M      Suburban        Married   \n",
       "2210     Basic  ...        Unemployed      F      Suburban         Single   \n",
       "\n",
       "         policy_type renew_offer_type sales_channel  vehicle_class  \\\n",
       "6880   Personal Auto           Offer3         Agent     Sports Car   \n",
       "5430  Corporate Auto           Offer1        Branch  Four-Door Car   \n",
       "2772   Personal Auto           Offer1   Call Center   Two-Door Car   \n",
       "3526   Personal Auto           Offer3         Agent  Four-Door Car   \n",
       "2210   Personal Auto           Offer3         Agent   Two-Door Car   \n",
       "\n",
       "     vehicle_size day_of_week  \n",
       "6880      Medsize           3  \n",
       "5430        Small           1  \n",
       "2772      Medsize           0  \n",
       "3526      Medsize           5  \n",
       "2210        Small           5  \n",
       "\n",
       "[5 rows x 22 columns]"
      ]
     },
     "execution_count": 47,
     "metadata": {},
     "output_type": "execute_result"
    }
   ],
   "source": [
    "#5. The time variable can be useful. Try to transform its data into a useful one. Hint: Day week and month as integers might be useful.\n",
    "import datetime\n",
    "X_train['day_of_week'] = pd.DatetimeIndex(X_train['effective_to_date']).day_of_week\n",
    "X_train.head()"
   ]
  },
  {
   "cell_type": "code",
   "execution_count": 48,
   "id": "9ed8f892",
   "metadata": {},
   "outputs": [
    {
     "name": "stderr",
     "output_type": "stream",
     "text": [
      "/opt/anaconda3/lib/python3.9/site-packages/pandas/core/indexes/datetimes.py:327: UserWarning: Parsing '18/02/2011' in DD/MM/YYYY format. Provide format or specify infer_datetime_format=True for consistent parsing.\n",
      "  dtarr = DatetimeArray._from_sequence_not_strict(\n",
      "/opt/anaconda3/lib/python3.9/site-packages/pandas/core/indexes/datetimes.py:327: UserWarning: Parsing '22/01/2011' in DD/MM/YYYY format. Provide format or specify infer_datetime_format=True for consistent parsing.\n",
      "  dtarr = DatetimeArray._from_sequence_not_strict(\n",
      "/opt/anaconda3/lib/python3.9/site-packages/pandas/core/indexes/datetimes.py:327: UserWarning: Parsing '30/01/2011' in DD/MM/YYYY format. Provide format or specify infer_datetime_format=True for consistent parsing.\n",
      "  dtarr = DatetimeArray._from_sequence_not_strict(\n",
      "/opt/anaconda3/lib/python3.9/site-packages/pandas/core/indexes/datetimes.py:327: UserWarning: Parsing '29/01/2011' in DD/MM/YYYY format. Provide format or specify infer_datetime_format=True for consistent parsing.\n",
      "  dtarr = DatetimeArray._from_sequence_not_strict(\n",
      "/opt/anaconda3/lib/python3.9/site-packages/pandas/core/indexes/datetimes.py:327: UserWarning: Parsing '16/02/2011' in DD/MM/YYYY format. Provide format or specify infer_datetime_format=True for consistent parsing.\n",
      "  dtarr = DatetimeArray._from_sequence_not_strict(\n",
      "/opt/anaconda3/lib/python3.9/site-packages/pandas/core/indexes/datetimes.py:327: UserWarning: Parsing '24/01/2011' in DD/MM/YYYY format. Provide format or specify infer_datetime_format=True for consistent parsing.\n",
      "  dtarr = DatetimeArray._from_sequence_not_strict(\n",
      "/opt/anaconda3/lib/python3.9/site-packages/pandas/core/indexes/datetimes.py:327: UserWarning: Parsing '31/01/2011' in DD/MM/YYYY format. Provide format or specify infer_datetime_format=True for consistent parsing.\n",
      "  dtarr = DatetimeArray._from_sequence_not_strict(\n",
      "/opt/anaconda3/lib/python3.9/site-packages/pandas/core/indexes/datetimes.py:327: UserWarning: Parsing '27/02/2011' in DD/MM/YYYY format. Provide format or specify infer_datetime_format=True for consistent parsing.\n",
      "  dtarr = DatetimeArray._from_sequence_not_strict(\n",
      "/opt/anaconda3/lib/python3.9/site-packages/pandas/core/indexes/datetimes.py:327: UserWarning: Parsing '19/01/2011' in DD/MM/YYYY format. Provide format or specify infer_datetime_format=True for consistent parsing.\n",
      "  dtarr = DatetimeArray._from_sequence_not_strict(\n",
      "/opt/anaconda3/lib/python3.9/site-packages/pandas/core/indexes/datetimes.py:327: UserWarning: Parsing '28/01/2011' in DD/MM/YYYY format. Provide format or specify infer_datetime_format=True for consistent parsing.\n",
      "  dtarr = DatetimeArray._from_sequence_not_strict(\n",
      "/opt/anaconda3/lib/python3.9/site-packages/pandas/core/indexes/datetimes.py:327: UserWarning: Parsing '28/02/2011' in DD/MM/YYYY format. Provide format or specify infer_datetime_format=True for consistent parsing.\n",
      "  dtarr = DatetimeArray._from_sequence_not_strict(\n",
      "/opt/anaconda3/lib/python3.9/site-packages/pandas/core/indexes/datetimes.py:327: UserWarning: Parsing '21/02/2011' in DD/MM/YYYY format. Provide format or specify infer_datetime_format=True for consistent parsing.\n",
      "  dtarr = DatetimeArray._from_sequence_not_strict(\n",
      "/opt/anaconda3/lib/python3.9/site-packages/pandas/core/indexes/datetimes.py:327: UserWarning: Parsing '15/01/2011' in DD/MM/YYYY format. Provide format or specify infer_datetime_format=True for consistent parsing.\n",
      "  dtarr = DatetimeArray._from_sequence_not_strict(\n",
      "/opt/anaconda3/lib/python3.9/site-packages/pandas/core/indexes/datetimes.py:327: UserWarning: Parsing '18/01/2011' in DD/MM/YYYY format. Provide format or specify infer_datetime_format=True for consistent parsing.\n",
      "  dtarr = DatetimeArray._from_sequence_not_strict(\n",
      "/opt/anaconda3/lib/python3.9/site-packages/pandas/core/indexes/datetimes.py:327: UserWarning: Parsing '26/01/2011' in DD/MM/YYYY format. Provide format or specify infer_datetime_format=True for consistent parsing.\n",
      "  dtarr = DatetimeArray._from_sequence_not_strict(\n",
      "/opt/anaconda3/lib/python3.9/site-packages/pandas/core/indexes/datetimes.py:327: UserWarning: Parsing '22/02/2011' in DD/MM/YYYY format. Provide format or specify infer_datetime_format=True for consistent parsing.\n",
      "  dtarr = DatetimeArray._from_sequence_not_strict(\n",
      "/opt/anaconda3/lib/python3.9/site-packages/pandas/core/indexes/datetimes.py:327: UserWarning: Parsing '25/02/2011' in DD/MM/YYYY format. Provide format or specify infer_datetime_format=True for consistent parsing.\n",
      "  dtarr = DatetimeArray._from_sequence_not_strict(\n",
      "/opt/anaconda3/lib/python3.9/site-packages/pandas/core/indexes/datetimes.py:327: UserWarning: Parsing '14/02/2011' in DD/MM/YYYY format. Provide format or specify infer_datetime_format=True for consistent parsing.\n",
      "  dtarr = DatetimeArray._from_sequence_not_strict(\n",
      "/opt/anaconda3/lib/python3.9/site-packages/pandas/core/indexes/datetimes.py:327: UserWarning: Parsing '20/02/2011' in DD/MM/YYYY format. Provide format or specify infer_datetime_format=True for consistent parsing.\n",
      "  dtarr = DatetimeArray._from_sequence_not_strict(\n",
      "/opt/anaconda3/lib/python3.9/site-packages/pandas/core/indexes/datetimes.py:327: UserWarning: Parsing '26/02/2011' in DD/MM/YYYY format. Provide format or specify infer_datetime_format=True for consistent parsing.\n",
      "  dtarr = DatetimeArray._from_sequence_not_strict(\n",
      "/opt/anaconda3/lib/python3.9/site-packages/pandas/core/indexes/datetimes.py:327: UserWarning: Parsing '25/01/2011' in DD/MM/YYYY format. Provide format or specify infer_datetime_format=True for consistent parsing.\n",
      "  dtarr = DatetimeArray._from_sequence_not_strict(\n",
      "/opt/anaconda3/lib/python3.9/site-packages/pandas/core/indexes/datetimes.py:327: UserWarning: Parsing '15/02/2011' in DD/MM/YYYY format. Provide format or specify infer_datetime_format=True for consistent parsing.\n",
      "  dtarr = DatetimeArray._from_sequence_not_strict(\n",
      "/opt/anaconda3/lib/python3.9/site-packages/pandas/core/indexes/datetimes.py:327: UserWarning: Parsing '23/01/2011' in DD/MM/YYYY format. Provide format or specify infer_datetime_format=True for consistent parsing.\n",
      "  dtarr = DatetimeArray._from_sequence_not_strict(\n",
      "/opt/anaconda3/lib/python3.9/site-packages/pandas/core/indexes/datetimes.py:327: UserWarning: Parsing '20/01/2011' in DD/MM/YYYY format. Provide format or specify infer_datetime_format=True for consistent parsing.\n",
      "  dtarr = DatetimeArray._from_sequence_not_strict(\n",
      "/opt/anaconda3/lib/python3.9/site-packages/pandas/core/indexes/datetimes.py:327: UserWarning: Parsing '13/01/2011' in DD/MM/YYYY format. Provide format or specify infer_datetime_format=True for consistent parsing.\n",
      "  dtarr = DatetimeArray._from_sequence_not_strict(\n",
      "/opt/anaconda3/lib/python3.9/site-packages/pandas/core/indexes/datetimes.py:327: UserWarning: Parsing '21/01/2011' in DD/MM/YYYY format. Provide format or specify infer_datetime_format=True for consistent parsing.\n",
      "  dtarr = DatetimeArray._from_sequence_not_strict(\n",
      "/opt/anaconda3/lib/python3.9/site-packages/pandas/core/indexes/datetimes.py:327: UserWarning: Parsing '14/01/2011' in DD/MM/YYYY format. Provide format or specify infer_datetime_format=True for consistent parsing.\n",
      "  dtarr = DatetimeArray._from_sequence_not_strict(\n",
      "/opt/anaconda3/lib/python3.9/site-packages/pandas/core/indexes/datetimes.py:327: UserWarning: Parsing '13/02/2011' in DD/MM/YYYY format. Provide format or specify infer_datetime_format=True for consistent parsing.\n",
      "  dtarr = DatetimeArray._from_sequence_not_strict(\n",
      "/opt/anaconda3/lib/python3.9/site-packages/pandas/core/indexes/datetimes.py:327: UserWarning: Parsing '19/02/2011' in DD/MM/YYYY format. Provide format or specify infer_datetime_format=True for consistent parsing.\n",
      "  dtarr = DatetimeArray._from_sequence_not_strict(\n",
      "/opt/anaconda3/lib/python3.9/site-packages/pandas/core/indexes/datetimes.py:327: UserWarning: Parsing '17/01/2011' in DD/MM/YYYY format. Provide format or specify infer_datetime_format=True for consistent parsing.\n",
      "  dtarr = DatetimeArray._from_sequence_not_strict(\n",
      "/opt/anaconda3/lib/python3.9/site-packages/pandas/core/indexes/datetimes.py:327: UserWarning: Parsing '17/02/2011' in DD/MM/YYYY format. Provide format or specify infer_datetime_format=True for consistent parsing.\n",
      "  dtarr = DatetimeArray._from_sequence_not_strict(\n",
      "/opt/anaconda3/lib/python3.9/site-packages/pandas/core/indexes/datetimes.py:327: UserWarning: Parsing '23/02/2011' in DD/MM/YYYY format. Provide format or specify infer_datetime_format=True for consistent parsing.\n",
      "  dtarr = DatetimeArray._from_sequence_not_strict(\n",
      "/opt/anaconda3/lib/python3.9/site-packages/pandas/core/indexes/datetimes.py:327: UserWarning: Parsing '16/01/2011' in DD/MM/YYYY format. Provide format or specify infer_datetime_format=True for consistent parsing.\n",
      "  dtarr = DatetimeArray._from_sequence_not_strict(\n",
      "/opt/anaconda3/lib/python3.9/site-packages/pandas/core/indexes/datetimes.py:327: UserWarning: Parsing '24/02/2011' in DD/MM/YYYY format. Provide format or specify infer_datetime_format=True for consistent parsing.\n",
      "  dtarr = DatetimeArray._from_sequence_not_strict(\n",
      "/opt/anaconda3/lib/python3.9/site-packages/pandas/core/indexes/datetimes.py:327: UserWarning: Parsing '27/01/2011' in DD/MM/YYYY format. Provide format or specify infer_datetime_format=True for consistent parsing.\n",
      "  dtarr = DatetimeArray._from_sequence_not_strict(\n",
      "/var/folders/3f/16zzr57d3s9c_cn2pfzdnw0c0000gp/T/ipykernel_20160/2643103892.py:2: SettingWithCopyWarning: \n",
      "A value is trying to be set on a copy of a slice from a DataFrame.\n",
      "Try using .loc[row_indexer,col_indexer] = value instead\n",
      "\n",
      "See the caveats in the documentation: https://pandas.pydata.org/pandas-docs/stable/user_guide/indexing.html#returning-a-view-versus-a-copy\n",
      "  date_test['day_of_week'] = pd.DatetimeIndex(X_test['effective_to_date']).day_of_week\n"
     ]
    },
    {
     "data": {
      "text/html": [
       "<div>\n",
       "<style scoped>\n",
       "    .dataframe tbody tr th:only-of-type {\n",
       "        vertical-align: middle;\n",
       "    }\n",
       "\n",
       "    .dataframe tbody tr th {\n",
       "        vertical-align: top;\n",
       "    }\n",
       "\n",
       "    .dataframe thead th {\n",
       "        text-align: right;\n",
       "    }\n",
       "</style>\n",
       "<table border=\"1\" class=\"dataframe\">\n",
       "  <thead>\n",
       "    <tr style=\"text-align: right;\">\n",
       "      <th></th>\n",
       "      <th>day_of_week</th>\n",
       "    </tr>\n",
       "  </thead>\n",
       "  <tbody>\n",
       "    <tr>\n",
       "      <th>3317</th>\n",
       "      <td>4</td>\n",
       "    </tr>\n",
       "    <tr>\n",
       "      <th>6156</th>\n",
       "      <td>0</td>\n",
       "    </tr>\n",
       "    <tr>\n",
       "      <th>4961</th>\n",
       "      <td>5</td>\n",
       "    </tr>\n",
       "    <tr>\n",
       "      <th>6350</th>\n",
       "      <td>5</td>\n",
       "    </tr>\n",
       "    <tr>\n",
       "      <th>8162</th>\n",
       "      <td>6</td>\n",
       "    </tr>\n",
       "    <tr>\n",
       "      <th>...</th>\n",
       "      <td>...</td>\n",
       "    </tr>\n",
       "    <tr>\n",
       "      <th>689</th>\n",
       "      <td>6</td>\n",
       "    </tr>\n",
       "    <tr>\n",
       "      <th>2603</th>\n",
       "      <td>3</td>\n",
       "    </tr>\n",
       "    <tr>\n",
       "      <th>4425</th>\n",
       "      <td>1</td>\n",
       "    </tr>\n",
       "    <tr>\n",
       "      <th>8746</th>\n",
       "      <td>2</td>\n",
       "    </tr>\n",
       "    <tr>\n",
       "      <th>6561</th>\n",
       "      <td>5</td>\n",
       "    </tr>\n",
       "  </tbody>\n",
       "</table>\n",
       "<p>1798 rows × 1 columns</p>\n",
       "</div>"
      ],
      "text/plain": [
       "      day_of_week\n",
       "3317            4\n",
       "6156            0\n",
       "4961            5\n",
       "6350            5\n",
       "8162            6\n",
       "...           ...\n",
       "689             6\n",
       "2603            3\n",
       "4425            1\n",
       "8746            2\n",
       "6561            5\n",
       "\n",
       "[1798 rows x 1 columns]"
      ]
     },
     "execution_count": 48,
     "metadata": {},
     "output_type": "execute_result"
    }
   ],
   "source": [
    "date_test = X_test[['effective_to_date']]\n",
    "date_test['day_of_week'] = pd.DatetimeIndex(X_test['effective_to_date']).day_of_week\n",
    "date_test = date_test.drop(['effective_to_date'], axis = 1)\n",
    "date_test"
   ]
  },
  {
   "cell_type": "code",
   "execution_count": 52,
   "id": "03463e66",
   "metadata": {},
   "outputs": [
    {
     "name": "stderr",
     "output_type": "stream",
     "text": [
      "/opt/anaconda3/lib/python3.9/site-packages/pandas/core/indexes/datetimes.py:327: UserWarning: Parsing '24/01/2011' in DD/MM/YYYY format. Provide format or specify infer_datetime_format=True for consistent parsing.\n",
      "  dtarr = DatetimeArray._from_sequence_not_strict(\n",
      "/opt/anaconda3/lib/python3.9/site-packages/pandas/core/indexes/datetimes.py:327: UserWarning: Parsing '26/02/2011' in DD/MM/YYYY format. Provide format or specify infer_datetime_format=True for consistent parsing.\n",
      "  dtarr = DatetimeArray._from_sequence_not_strict(\n",
      "/opt/anaconda3/lib/python3.9/site-packages/pandas/core/indexes/datetimes.py:327: UserWarning: Parsing '17/02/2011' in DD/MM/YYYY format. Provide format or specify infer_datetime_format=True for consistent parsing.\n",
      "  dtarr = DatetimeArray._from_sequence_not_strict(\n",
      "/opt/anaconda3/lib/python3.9/site-packages/pandas/core/indexes/datetimes.py:327: UserWarning: Parsing '13/02/2011' in DD/MM/YYYY format. Provide format or specify infer_datetime_format=True for consistent parsing.\n",
      "  dtarr = DatetimeArray._from_sequence_not_strict(\n",
      "/opt/anaconda3/lib/python3.9/site-packages/pandas/core/indexes/datetimes.py:327: UserWarning: Parsing '27/01/2011' in DD/MM/YYYY format. Provide format or specify infer_datetime_format=True for consistent parsing.\n",
      "  dtarr = DatetimeArray._from_sequence_not_strict(\n",
      "/opt/anaconda3/lib/python3.9/site-packages/pandas/core/indexes/datetimes.py:327: UserWarning: Parsing '19/01/2011' in DD/MM/YYYY format. Provide format or specify infer_datetime_format=True for consistent parsing.\n",
      "  dtarr = DatetimeArray._from_sequence_not_strict(\n",
      "/opt/anaconda3/lib/python3.9/site-packages/pandas/core/indexes/datetimes.py:327: UserWarning: Parsing '13/01/2011' in DD/MM/YYYY format. Provide format or specify infer_datetime_format=True for consistent parsing.\n",
      "  dtarr = DatetimeArray._from_sequence_not_strict(\n",
      "/opt/anaconda3/lib/python3.9/site-packages/pandas/core/indexes/datetimes.py:327: UserWarning: Parsing '25/02/2011' in DD/MM/YYYY format. Provide format or specify infer_datetime_format=True for consistent parsing.\n",
      "  dtarr = DatetimeArray._from_sequence_not_strict(\n",
      "/opt/anaconda3/lib/python3.9/site-packages/pandas/core/indexes/datetimes.py:327: UserWarning: Parsing '18/01/2011' in DD/MM/YYYY format. Provide format or specify infer_datetime_format=True for consistent parsing.\n",
      "  dtarr = DatetimeArray._from_sequence_not_strict(\n",
      "/opt/anaconda3/lib/python3.9/site-packages/pandas/core/indexes/datetimes.py:327: UserWarning: Parsing '31/01/2011' in DD/MM/YYYY format. Provide format or specify infer_datetime_format=True for consistent parsing.\n",
      "  dtarr = DatetimeArray._from_sequence_not_strict(\n",
      "/opt/anaconda3/lib/python3.9/site-packages/pandas/core/indexes/datetimes.py:327: UserWarning: Parsing '23/02/2011' in DD/MM/YYYY format. Provide format or specify infer_datetime_format=True for consistent parsing.\n",
      "  dtarr = DatetimeArray._from_sequence_not_strict(\n",
      "/opt/anaconda3/lib/python3.9/site-packages/pandas/core/indexes/datetimes.py:327: UserWarning: Parsing '20/01/2011' in DD/MM/YYYY format. Provide format or specify infer_datetime_format=True for consistent parsing.\n",
      "  dtarr = DatetimeArray._from_sequence_not_strict(\n",
      "/opt/anaconda3/lib/python3.9/site-packages/pandas/core/indexes/datetimes.py:327: UserWarning: Parsing '16/02/2011' in DD/MM/YYYY format. Provide format or specify infer_datetime_format=True for consistent parsing.\n",
      "  dtarr = DatetimeArray._from_sequence_not_strict(\n",
      "/opt/anaconda3/lib/python3.9/site-packages/pandas/core/indexes/datetimes.py:327: UserWarning: Parsing '26/01/2011' in DD/MM/YYYY format. Provide format or specify infer_datetime_format=True for consistent parsing.\n",
      "  dtarr = DatetimeArray._from_sequence_not_strict(\n",
      "/opt/anaconda3/lib/python3.9/site-packages/pandas/core/indexes/datetimes.py:327: UserWarning: Parsing '24/02/2011' in DD/MM/YYYY format. Provide format or specify infer_datetime_format=True for consistent parsing.\n",
      "  dtarr = DatetimeArray._from_sequence_not_strict(\n",
      "/opt/anaconda3/lib/python3.9/site-packages/pandas/core/indexes/datetimes.py:327: UserWarning: Parsing '15/01/2011' in DD/MM/YYYY format. Provide format or specify infer_datetime_format=True for consistent parsing.\n",
      "  dtarr = DatetimeArray._from_sequence_not_strict(\n",
      "/opt/anaconda3/lib/python3.9/site-packages/pandas/core/indexes/datetimes.py:327: UserWarning: Parsing '20/02/2011' in DD/MM/YYYY format. Provide format or specify infer_datetime_format=True for consistent parsing.\n",
      "  dtarr = DatetimeArray._from_sequence_not_strict(\n",
      "/opt/anaconda3/lib/python3.9/site-packages/pandas/core/indexes/datetimes.py:327: UserWarning: Parsing '22/01/2011' in DD/MM/YYYY format. Provide format or specify infer_datetime_format=True for consistent parsing.\n",
      "  dtarr = DatetimeArray._from_sequence_not_strict(\n",
      "/opt/anaconda3/lib/python3.9/site-packages/pandas/core/indexes/datetimes.py:327: UserWarning: Parsing '17/01/2011' in DD/MM/YYYY format. Provide format or specify infer_datetime_format=True for consistent parsing.\n",
      "  dtarr = DatetimeArray._from_sequence_not_strict(\n",
      "/opt/anaconda3/lib/python3.9/site-packages/pandas/core/indexes/datetimes.py:327: UserWarning: Parsing '15/02/2011' in DD/MM/YYYY format. Provide format or specify infer_datetime_format=True for consistent parsing.\n",
      "  dtarr = DatetimeArray._from_sequence_not_strict(\n",
      "/opt/anaconda3/lib/python3.9/site-packages/pandas/core/indexes/datetimes.py:327: UserWarning: Parsing '14/02/2011' in DD/MM/YYYY format. Provide format or specify infer_datetime_format=True for consistent parsing.\n",
      "  dtarr = DatetimeArray._from_sequence_not_strict(\n",
      "/opt/anaconda3/lib/python3.9/site-packages/pandas/core/indexes/datetimes.py:327: UserWarning: Parsing '28/01/2011' in DD/MM/YYYY format. Provide format or specify infer_datetime_format=True for consistent parsing.\n",
      "  dtarr = DatetimeArray._from_sequence_not_strict(\n",
      "/opt/anaconda3/lib/python3.9/site-packages/pandas/core/indexes/datetimes.py:327: UserWarning: Parsing '21/01/2011' in DD/MM/YYYY format. Provide format or specify infer_datetime_format=True for consistent parsing.\n",
      "  dtarr = DatetimeArray._from_sequence_not_strict(\n",
      "/opt/anaconda3/lib/python3.9/site-packages/pandas/core/indexes/datetimes.py:327: UserWarning: Parsing '14/01/2011' in DD/MM/YYYY format. Provide format or specify infer_datetime_format=True for consistent parsing.\n",
      "  dtarr = DatetimeArray._from_sequence_not_strict(\n",
      "/opt/anaconda3/lib/python3.9/site-packages/pandas/core/indexes/datetimes.py:327: UserWarning: Parsing '28/02/2011' in DD/MM/YYYY format. Provide format or specify infer_datetime_format=True for consistent parsing.\n",
      "  dtarr = DatetimeArray._from_sequence_not_strict(\n",
      "/opt/anaconda3/lib/python3.9/site-packages/pandas/core/indexes/datetimes.py:327: UserWarning: Parsing '29/01/2011' in DD/MM/YYYY format. Provide format or specify infer_datetime_format=True for consistent parsing.\n",
      "  dtarr = DatetimeArray._from_sequence_not_strict(\n",
      "/opt/anaconda3/lib/python3.9/site-packages/pandas/core/indexes/datetimes.py:327: UserWarning: Parsing '30/01/2011' in DD/MM/YYYY format. Provide format or specify infer_datetime_format=True for consistent parsing.\n",
      "  dtarr = DatetimeArray._from_sequence_not_strict(\n",
      "/opt/anaconda3/lib/python3.9/site-packages/pandas/core/indexes/datetimes.py:327: UserWarning: Parsing '19/02/2011' in DD/MM/YYYY format. Provide format or specify infer_datetime_format=True for consistent parsing.\n",
      "  dtarr = DatetimeArray._from_sequence_not_strict(\n",
      "/opt/anaconda3/lib/python3.9/site-packages/pandas/core/indexes/datetimes.py:327: UserWarning: Parsing '18/02/2011' in DD/MM/YYYY format. Provide format or specify infer_datetime_format=True for consistent parsing.\n",
      "  dtarr = DatetimeArray._from_sequence_not_strict(\n",
      "/opt/anaconda3/lib/python3.9/site-packages/pandas/core/indexes/datetimes.py:327: UserWarning: Parsing '27/02/2011' in DD/MM/YYYY format. Provide format or specify infer_datetime_format=True for consistent parsing.\n",
      "  dtarr = DatetimeArray._from_sequence_not_strict(\n",
      "/opt/anaconda3/lib/python3.9/site-packages/pandas/core/indexes/datetimes.py:327: UserWarning: Parsing '23/01/2011' in DD/MM/YYYY format. Provide format or specify infer_datetime_format=True for consistent parsing.\n",
      "  dtarr = DatetimeArray._from_sequence_not_strict(\n",
      "/opt/anaconda3/lib/python3.9/site-packages/pandas/core/indexes/datetimes.py:327: UserWarning: Parsing '25/01/2011' in DD/MM/YYYY format. Provide format or specify infer_datetime_format=True for consistent parsing.\n",
      "  dtarr = DatetimeArray._from_sequence_not_strict(\n",
      "/opt/anaconda3/lib/python3.9/site-packages/pandas/core/indexes/datetimes.py:327: UserWarning: Parsing '21/02/2011' in DD/MM/YYYY format. Provide format or specify infer_datetime_format=True for consistent parsing.\n",
      "  dtarr = DatetimeArray._from_sequence_not_strict(\n",
      "/opt/anaconda3/lib/python3.9/site-packages/pandas/core/indexes/datetimes.py:327: UserWarning: Parsing '16/01/2011' in DD/MM/YYYY format. Provide format or specify infer_datetime_format=True for consistent parsing.\n",
      "  dtarr = DatetimeArray._from_sequence_not_strict(\n",
      "/opt/anaconda3/lib/python3.9/site-packages/pandas/core/indexes/datetimes.py:327: UserWarning: Parsing '22/02/2011' in DD/MM/YYYY format. Provide format or specify infer_datetime_format=True for consistent parsing.\n",
      "  dtarr = DatetimeArray._from_sequence_not_strict(\n",
      "/var/folders/3f/16zzr57d3s9c_cn2pfzdnw0c0000gp/T/ipykernel_20160/713248011.py:2: SettingWithCopyWarning: \n",
      "A value is trying to be set on a copy of a slice from a DataFrame.\n",
      "Try using .loc[row_indexer,col_indexer] = value instead\n",
      "\n",
      "See the caveats in the documentation: https://pandas.pydata.org/pandas-docs/stable/user_guide/indexing.html#returning-a-view-versus-a-copy\n",
      "  date_train['day_of_week'] = pd.DatetimeIndex(X_train['effective_to_date']).day_of_week\n"
     ]
    },
    {
     "data": {
      "text/html": [
       "<div>\n",
       "<style scoped>\n",
       "    .dataframe tbody tr th:only-of-type {\n",
       "        vertical-align: middle;\n",
       "    }\n",
       "\n",
       "    .dataframe tbody tr th {\n",
       "        vertical-align: top;\n",
       "    }\n",
       "\n",
       "    .dataframe thead th {\n",
       "        text-align: right;\n",
       "    }\n",
       "</style>\n",
       "<table border=\"1\" class=\"dataframe\">\n",
       "  <thead>\n",
       "    <tr style=\"text-align: right;\">\n",
       "      <th></th>\n",
       "      <th>day_of_week</th>\n",
       "    </tr>\n",
       "  </thead>\n",
       "  <tbody>\n",
       "    <tr>\n",
       "      <th>6880</th>\n",
       "      <td>3</td>\n",
       "    </tr>\n",
       "    <tr>\n",
       "      <th>5430</th>\n",
       "      <td>1</td>\n",
       "    </tr>\n",
       "    <tr>\n",
       "      <th>2772</th>\n",
       "      <td>0</td>\n",
       "    </tr>\n",
       "    <tr>\n",
       "      <th>3526</th>\n",
       "      <td>5</td>\n",
       "    </tr>\n",
       "    <tr>\n",
       "      <th>2210</th>\n",
       "      <td>5</td>\n",
       "    </tr>\n",
       "    <tr>\n",
       "      <th>...</th>\n",
       "      <td>...</td>\n",
       "    </tr>\n",
       "    <tr>\n",
       "      <th>674</th>\n",
       "      <td>5</td>\n",
       "    </tr>\n",
       "    <tr>\n",
       "      <th>7661</th>\n",
       "      <td>5</td>\n",
       "    </tr>\n",
       "    <tr>\n",
       "      <th>7337</th>\n",
       "      <td>2</td>\n",
       "    </tr>\n",
       "    <tr>\n",
       "      <th>1343</th>\n",
       "      <td>5</td>\n",
       "    </tr>\n",
       "    <tr>\n",
       "      <th>9060</th>\n",
       "      <td>0</td>\n",
       "    </tr>\n",
       "  </tbody>\n",
       "</table>\n",
       "<p>7191 rows × 1 columns</p>\n",
       "</div>"
      ],
      "text/plain": [
       "      day_of_week\n",
       "6880            3\n",
       "5430            1\n",
       "2772            0\n",
       "3526            5\n",
       "2210            5\n",
       "...           ...\n",
       "674             5\n",
       "7661            5\n",
       "7337            2\n",
       "1343            5\n",
       "9060            0\n",
       "\n",
       "[7191 rows x 1 columns]"
      ]
     },
     "execution_count": 52,
     "metadata": {},
     "output_type": "execute_result"
    }
   ],
   "source": [
    "date_train = X_train[['effective_to_date']]\n",
    "date_train['day_of_week'] = pd.DatetimeIndex(X_train['effective_to_date']).day_of_week\n",
    "date_train = date_train.drop(['effective_to_date'], axis = 1)\n",
    "date_train"
   ]
  },
  {
   "cell_type": "code",
   "execution_count": null,
   "id": "be44b0f2",
   "metadata": {},
   "outputs": [],
   "source": [
    "#7. Since the model will only accept numerical data, check and make sure that every column is numerical, if some are not, change it using encoding."
   ]
  },
  {
   "cell_type": "code",
   "execution_count": 61,
   "id": "3b4cb432",
   "metadata": {},
   "outputs": [],
   "source": [
    "#Creating a final version of X_test and X_train\n",
    "X_train_processed2 = np.concatenate((ordinal_train, X_train_cat_encoded,X_train_num_standardized,date_train), axis=1)\n",
    "X_test_processed2 = np.concatenate((ordinal_test, X_test_cat_encoded,X_test_norm,date_test), axis=1)"
   ]
  },
  {
   "cell_type": "code",
   "execution_count": 62,
   "id": "59fd2ec7",
   "metadata": {},
   "outputs": [],
   "source": [
    "#8. Try a simple linear regression with all the data to see whether we are getting good results.\n",
    "from sklearn import linear_model\n",
    "from sklearn.metrics import r2_score"
   ]
  },
  {
   "cell_type": "code",
   "execution_count": 64,
   "id": "abe427fc",
   "metadata": {},
   "outputs": [
    {
     "data": {
      "text/html": [
       "<style>#sk-container-id-3 {color: black;background-color: white;}#sk-container-id-3 pre{padding: 0;}#sk-container-id-3 div.sk-toggleable {background-color: white;}#sk-container-id-3 label.sk-toggleable__label {cursor: pointer;display: block;width: 100%;margin-bottom: 0;padding: 0.3em;box-sizing: border-box;text-align: center;}#sk-container-id-3 label.sk-toggleable__label-arrow:before {content: \"▸\";float: left;margin-right: 0.25em;color: #696969;}#sk-container-id-3 label.sk-toggleable__label-arrow:hover:before {color: black;}#sk-container-id-3 div.sk-estimator:hover label.sk-toggleable__label-arrow:before {color: black;}#sk-container-id-3 div.sk-toggleable__content {max-height: 0;max-width: 0;overflow: hidden;text-align: left;background-color: #f0f8ff;}#sk-container-id-3 div.sk-toggleable__content pre {margin: 0.2em;color: black;border-radius: 0.25em;background-color: #f0f8ff;}#sk-container-id-3 input.sk-toggleable__control:checked~div.sk-toggleable__content {max-height: 200px;max-width: 100%;overflow: auto;}#sk-container-id-3 input.sk-toggleable__control:checked~label.sk-toggleable__label-arrow:before {content: \"▾\";}#sk-container-id-3 div.sk-estimator input.sk-toggleable__control:checked~label.sk-toggleable__label {background-color: #d4ebff;}#sk-container-id-3 div.sk-label input.sk-toggleable__control:checked~label.sk-toggleable__label {background-color: #d4ebff;}#sk-container-id-3 input.sk-hidden--visually {border: 0;clip: rect(1px 1px 1px 1px);clip: rect(1px, 1px, 1px, 1px);height: 1px;margin: -1px;overflow: hidden;padding: 0;position: absolute;width: 1px;}#sk-container-id-3 div.sk-estimator {font-family: monospace;background-color: #f0f8ff;border: 1px dotted black;border-radius: 0.25em;box-sizing: border-box;margin-bottom: 0.5em;}#sk-container-id-3 div.sk-estimator:hover {background-color: #d4ebff;}#sk-container-id-3 div.sk-parallel-item::after {content: \"\";width: 100%;border-bottom: 1px solid gray;flex-grow: 1;}#sk-container-id-3 div.sk-label:hover label.sk-toggleable__label {background-color: #d4ebff;}#sk-container-id-3 div.sk-serial::before {content: \"\";position: absolute;border-left: 1px solid gray;box-sizing: border-box;top: 0;bottom: 0;left: 50%;z-index: 0;}#sk-container-id-3 div.sk-serial {display: flex;flex-direction: column;align-items: center;background-color: white;padding-right: 0.2em;padding-left: 0.2em;position: relative;}#sk-container-id-3 div.sk-item {position: relative;z-index: 1;}#sk-container-id-3 div.sk-parallel {display: flex;align-items: stretch;justify-content: center;background-color: white;position: relative;}#sk-container-id-3 div.sk-item::before, #sk-container-id-3 div.sk-parallel-item::before {content: \"\";position: absolute;border-left: 1px solid gray;box-sizing: border-box;top: 0;bottom: 0;left: 50%;z-index: -1;}#sk-container-id-3 div.sk-parallel-item {display: flex;flex-direction: column;z-index: 1;position: relative;background-color: white;}#sk-container-id-3 div.sk-parallel-item:first-child::after {align-self: flex-end;width: 50%;}#sk-container-id-3 div.sk-parallel-item:last-child::after {align-self: flex-start;width: 50%;}#sk-container-id-3 div.sk-parallel-item:only-child::after {width: 0;}#sk-container-id-3 div.sk-dashed-wrapped {border: 1px dashed gray;margin: 0 0.4em 0.5em 0.4em;box-sizing: border-box;padding-bottom: 0.4em;background-color: white;}#sk-container-id-3 div.sk-label label {font-family: monospace;font-weight: bold;display: inline-block;line-height: 1.2em;}#sk-container-id-3 div.sk-label-container {text-align: center;}#sk-container-id-3 div.sk-container {/* jupyter's `normalize.less` sets `[hidden] { display: none; }` but bootstrap.min.css set `[hidden] { display: none !important; }` so we also need the `!important` here to be able to override the default hidden behavior on the sphinx rendered scikit-learn.org. See: https://github.com/scikit-learn/scikit-learn/issues/21755 */display: inline-block !important;position: relative;}#sk-container-id-3 div.sk-text-repr-fallback {display: none;}</style><div id=\"sk-container-id-3\" class=\"sk-top-container\"><div class=\"sk-text-repr-fallback\"><pre>LinearRegression()</pre><b>In a Jupyter environment, please rerun this cell to show the HTML representation or trust the notebook. <br />On GitHub, the HTML representation is unable to render, please try loading this page with nbviewer.org.</b></div><div class=\"sk-container\" hidden><div class=\"sk-item\"><div class=\"sk-estimator sk-toggleable\"><input class=\"sk-toggleable__control sk-hidden--visually\" id=\"sk-estimator-id-3\" type=\"checkbox\" checked><label for=\"sk-estimator-id-3\" class=\"sk-toggleable__label sk-toggleable__label-arrow\">LinearRegression</label><div class=\"sk-toggleable__content\"><pre>LinearRegression()</pre></div></div></div></div></div>"
      ],
      "text/plain": [
       "LinearRegression()"
      ]
     },
     "execution_count": 64,
     "metadata": {},
     "output_type": "execute_result"
    }
   ],
   "source": [
    "lm = linear_model.LinearRegression()\n",
    "lm.fit(X_train_processed,y_train)"
   ]
  },
  {
   "cell_type": "code",
   "execution_count": 65,
   "id": "dbfcd9f1",
   "metadata": {},
   "outputs": [
    {
     "data": {
      "text/plain": [
       "0.5866853195790324"
      ]
     },
     "execution_count": 65,
     "metadata": {},
     "output_type": "execute_result"
    }
   ],
   "source": [
    "predictions_train = lm.predict(X_train_processed)\n",
    "r2_score(y_train, predictions_train)"
   ]
  },
  {
   "cell_type": "code",
   "execution_count": 66,
   "id": "9c1ce4b6",
   "metadata": {},
   "outputs": [
    {
     "data": {
      "text/plain": [
       "0.5317177233586186"
      ]
     },
     "execution_count": 66,
     "metadata": {},
     "output_type": "execute_result"
    }
   ],
   "source": [
    "predictions_test = lm.predict(X_test_processed)\n",
    "r2_score(y_test, predictions_test)"
   ]
  },
  {
   "cell_type": "code",
   "execution_count": 67,
   "id": "f8efb88b",
   "metadata": {},
   "outputs": [
    {
     "data": {
      "text/plain": [
       "3317    299.788806\n",
       "6156    350.400000\n",
       "4961    312.000000\n",
       "6350    402.741680\n",
       "8162    600.000000\n",
       "Name: total_claim_amount, dtype: float64"
      ]
     },
     "execution_count": 67,
     "metadata": {},
     "output_type": "execute_result"
    }
   ],
   "source": [
    "y_test[:5]"
   ]
  },
  {
   "cell_type": "code",
   "execution_count": 68,
   "id": "8ce7332f",
   "metadata": {},
   "outputs": [
    {
     "data": {
      "text/plain": [
       "array([181.73973285, 443.90887292, 404.46814118, 123.67973861,\n",
       "       525.51388549])"
      ]
     },
     "execution_count": 68,
     "metadata": {},
     "output_type": "execute_result"
    }
   ],
   "source": [
    "predictions_test[:5]"
   ]
  },
  {
   "cell_type": "code",
   "execution_count": 69,
   "id": "e7846c0e",
   "metadata": {},
   "outputs": [
    {
     "data": {
      "text/html": [
       "<style>#sk-container-id-4 {color: black;background-color: white;}#sk-container-id-4 pre{padding: 0;}#sk-container-id-4 div.sk-toggleable {background-color: white;}#sk-container-id-4 label.sk-toggleable__label {cursor: pointer;display: block;width: 100%;margin-bottom: 0;padding: 0.3em;box-sizing: border-box;text-align: center;}#sk-container-id-4 label.sk-toggleable__label-arrow:before {content: \"▸\";float: left;margin-right: 0.25em;color: #696969;}#sk-container-id-4 label.sk-toggleable__label-arrow:hover:before {color: black;}#sk-container-id-4 div.sk-estimator:hover label.sk-toggleable__label-arrow:before {color: black;}#sk-container-id-4 div.sk-toggleable__content {max-height: 0;max-width: 0;overflow: hidden;text-align: left;background-color: #f0f8ff;}#sk-container-id-4 div.sk-toggleable__content pre {margin: 0.2em;color: black;border-radius: 0.25em;background-color: #f0f8ff;}#sk-container-id-4 input.sk-toggleable__control:checked~div.sk-toggleable__content {max-height: 200px;max-width: 100%;overflow: auto;}#sk-container-id-4 input.sk-toggleable__control:checked~label.sk-toggleable__label-arrow:before {content: \"▾\";}#sk-container-id-4 div.sk-estimator input.sk-toggleable__control:checked~label.sk-toggleable__label {background-color: #d4ebff;}#sk-container-id-4 div.sk-label input.sk-toggleable__control:checked~label.sk-toggleable__label {background-color: #d4ebff;}#sk-container-id-4 input.sk-hidden--visually {border: 0;clip: rect(1px 1px 1px 1px);clip: rect(1px, 1px, 1px, 1px);height: 1px;margin: -1px;overflow: hidden;padding: 0;position: absolute;width: 1px;}#sk-container-id-4 div.sk-estimator {font-family: monospace;background-color: #f0f8ff;border: 1px dotted black;border-radius: 0.25em;box-sizing: border-box;margin-bottom: 0.5em;}#sk-container-id-4 div.sk-estimator:hover {background-color: #d4ebff;}#sk-container-id-4 div.sk-parallel-item::after {content: \"\";width: 100%;border-bottom: 1px solid gray;flex-grow: 1;}#sk-container-id-4 div.sk-label:hover label.sk-toggleable__label {background-color: #d4ebff;}#sk-container-id-4 div.sk-serial::before {content: \"\";position: absolute;border-left: 1px solid gray;box-sizing: border-box;top: 0;bottom: 0;left: 50%;z-index: 0;}#sk-container-id-4 div.sk-serial {display: flex;flex-direction: column;align-items: center;background-color: white;padding-right: 0.2em;padding-left: 0.2em;position: relative;}#sk-container-id-4 div.sk-item {position: relative;z-index: 1;}#sk-container-id-4 div.sk-parallel {display: flex;align-items: stretch;justify-content: center;background-color: white;position: relative;}#sk-container-id-4 div.sk-item::before, #sk-container-id-4 div.sk-parallel-item::before {content: \"\";position: absolute;border-left: 1px solid gray;box-sizing: border-box;top: 0;bottom: 0;left: 50%;z-index: -1;}#sk-container-id-4 div.sk-parallel-item {display: flex;flex-direction: column;z-index: 1;position: relative;background-color: white;}#sk-container-id-4 div.sk-parallel-item:first-child::after {align-self: flex-end;width: 50%;}#sk-container-id-4 div.sk-parallel-item:last-child::after {align-self: flex-start;width: 50%;}#sk-container-id-4 div.sk-parallel-item:only-child::after {width: 0;}#sk-container-id-4 div.sk-dashed-wrapped {border: 1px dashed gray;margin: 0 0.4em 0.5em 0.4em;box-sizing: border-box;padding-bottom: 0.4em;background-color: white;}#sk-container-id-4 div.sk-label label {font-family: monospace;font-weight: bold;display: inline-block;line-height: 1.2em;}#sk-container-id-4 div.sk-label-container {text-align: center;}#sk-container-id-4 div.sk-container {/* jupyter's `normalize.less` sets `[hidden] { display: none; }` but bootstrap.min.css set `[hidden] { display: none !important; }` so we also need the `!important` here to be able to override the default hidden behavior on the sphinx rendered scikit-learn.org. See: https://github.com/scikit-learn/scikit-learn/issues/21755 */display: inline-block !important;position: relative;}#sk-container-id-4 div.sk-text-repr-fallback {display: none;}</style><div id=\"sk-container-id-4\" class=\"sk-top-container\"><div class=\"sk-text-repr-fallback\"><pre>LinearRegression()</pre><b>In a Jupyter environment, please rerun this cell to show the HTML representation or trust the notebook. <br />On GitHub, the HTML representation is unable to render, please try loading this page with nbviewer.org.</b></div><div class=\"sk-container\" hidden><div class=\"sk-item\"><div class=\"sk-estimator sk-toggleable\"><input class=\"sk-toggleable__control sk-hidden--visually\" id=\"sk-estimator-id-4\" type=\"checkbox\" checked><label for=\"sk-estimator-id-4\" class=\"sk-toggleable__label sk-toggleable__label-arrow\">LinearRegression</label><div class=\"sk-toggleable__content\"><pre>LinearRegression()</pre></div></div></div></div></div>"
      ],
      "text/plain": [
       "LinearRegression()"
      ]
     },
     "execution_count": 69,
     "metadata": {},
     "output_type": "execute_result"
    }
   ],
   "source": [
    "#now reconsidering the model with the additional changed date column\n",
    "lm = linear_model.LinearRegression()\n",
    "lm.fit(X_train_processed2,y_train)"
   ]
  },
  {
   "cell_type": "code",
   "execution_count": 70,
   "id": "05dfa466",
   "metadata": {},
   "outputs": [
    {
     "data": {
      "text/plain": [
       "0.5866861425166174"
      ]
     },
     "execution_count": 70,
     "metadata": {},
     "output_type": "execute_result"
    }
   ],
   "source": [
    "predictions_train = lm.predict(X_train_processed2)\n",
    "r2_score(y_train, predictions_train)"
   ]
  },
  {
   "cell_type": "code",
   "execution_count": 71,
   "id": "90cfc4b2",
   "metadata": {},
   "outputs": [
    {
     "data": {
      "text/plain": [
       "0.5316980285537714"
      ]
     },
     "execution_count": 71,
     "metadata": {},
     "output_type": "execute_result"
    }
   ],
   "source": [
    "predictions_test = lm.predict(X_test_processed2)\n",
    "r2_score(y_test, predictions_test)"
   ]
  },
  {
   "cell_type": "code",
   "execution_count": null,
   "id": "b6bc38ab",
   "metadata": {},
   "outputs": [],
   "source": [
    "#Analysis: Not the best model, as the test date is higher than the train data, therefore would perhaps reconsider removing more columns or cleaning additional data"
   ]
  },
  {
   "cell_type": "code",
   "execution_count": null,
   "id": "bf050a01",
   "metadata": {},
   "outputs": [],
   "source": [
    "#9. Define a function that takes a list of models and train (and tests) them so we can try a lot of them without repeating code"
   ]
  },
  {
   "cell_type": "code",
   "execution_count": 74,
   "id": "bcaf6ec0",
   "metadata": {},
   "outputs": [],
   "source": [
    "def prediction_models(model):\n",
    "    \n",
    "    if model == linear_model.LinearRegression():\n",
    "        model.fit(X_train_processed,y_train)\n",
    "        predictions = model.predict(X_train_processed)\n",
    "    return(score, r2_score)"
   ]
  },
  {
   "cell_type": "code",
   "execution_count": null,
   "id": "42d819de",
   "metadata": {},
   "outputs": [],
   "source": [
    "#10. Use the function to check LinearRegressor and KNeighborsRegressor."
   ]
  },
  {
   "cell_type": "code",
   "execution_count": 75,
   "id": "0cb7e936",
   "metadata": {},
   "outputs": [
    {
     "data": {
      "text/html": [
       "<style>#sk-container-id-5 {color: black;background-color: white;}#sk-container-id-5 pre{padding: 0;}#sk-container-id-5 div.sk-toggleable {background-color: white;}#sk-container-id-5 label.sk-toggleable__label {cursor: pointer;display: block;width: 100%;margin-bottom: 0;padding: 0.3em;box-sizing: border-box;text-align: center;}#sk-container-id-5 label.sk-toggleable__label-arrow:before {content: \"▸\";float: left;margin-right: 0.25em;color: #696969;}#sk-container-id-5 label.sk-toggleable__label-arrow:hover:before {color: black;}#sk-container-id-5 div.sk-estimator:hover label.sk-toggleable__label-arrow:before {color: black;}#sk-container-id-5 div.sk-toggleable__content {max-height: 0;max-width: 0;overflow: hidden;text-align: left;background-color: #f0f8ff;}#sk-container-id-5 div.sk-toggleable__content pre {margin: 0.2em;color: black;border-radius: 0.25em;background-color: #f0f8ff;}#sk-container-id-5 input.sk-toggleable__control:checked~div.sk-toggleable__content {max-height: 200px;max-width: 100%;overflow: auto;}#sk-container-id-5 input.sk-toggleable__control:checked~label.sk-toggleable__label-arrow:before {content: \"▾\";}#sk-container-id-5 div.sk-estimator input.sk-toggleable__control:checked~label.sk-toggleable__label {background-color: #d4ebff;}#sk-container-id-5 div.sk-label input.sk-toggleable__control:checked~label.sk-toggleable__label {background-color: #d4ebff;}#sk-container-id-5 input.sk-hidden--visually {border: 0;clip: rect(1px 1px 1px 1px);clip: rect(1px, 1px, 1px, 1px);height: 1px;margin: -1px;overflow: hidden;padding: 0;position: absolute;width: 1px;}#sk-container-id-5 div.sk-estimator {font-family: monospace;background-color: #f0f8ff;border: 1px dotted black;border-radius: 0.25em;box-sizing: border-box;margin-bottom: 0.5em;}#sk-container-id-5 div.sk-estimator:hover {background-color: #d4ebff;}#sk-container-id-5 div.sk-parallel-item::after {content: \"\";width: 100%;border-bottom: 1px solid gray;flex-grow: 1;}#sk-container-id-5 div.sk-label:hover label.sk-toggleable__label {background-color: #d4ebff;}#sk-container-id-5 div.sk-serial::before {content: \"\";position: absolute;border-left: 1px solid gray;box-sizing: border-box;top: 0;bottom: 0;left: 50%;z-index: 0;}#sk-container-id-5 div.sk-serial {display: flex;flex-direction: column;align-items: center;background-color: white;padding-right: 0.2em;padding-left: 0.2em;position: relative;}#sk-container-id-5 div.sk-item {position: relative;z-index: 1;}#sk-container-id-5 div.sk-parallel {display: flex;align-items: stretch;justify-content: center;background-color: white;position: relative;}#sk-container-id-5 div.sk-item::before, #sk-container-id-5 div.sk-parallel-item::before {content: \"\";position: absolute;border-left: 1px solid gray;box-sizing: border-box;top: 0;bottom: 0;left: 50%;z-index: -1;}#sk-container-id-5 div.sk-parallel-item {display: flex;flex-direction: column;z-index: 1;position: relative;background-color: white;}#sk-container-id-5 div.sk-parallel-item:first-child::after {align-self: flex-end;width: 50%;}#sk-container-id-5 div.sk-parallel-item:last-child::after {align-self: flex-start;width: 50%;}#sk-container-id-5 div.sk-parallel-item:only-child::after {width: 0;}#sk-container-id-5 div.sk-dashed-wrapped {border: 1px dashed gray;margin: 0 0.4em 0.5em 0.4em;box-sizing: border-box;padding-bottom: 0.4em;background-color: white;}#sk-container-id-5 div.sk-label label {font-family: monospace;font-weight: bold;display: inline-block;line-height: 1.2em;}#sk-container-id-5 div.sk-label-container {text-align: center;}#sk-container-id-5 div.sk-container {/* jupyter's `normalize.less` sets `[hidden] { display: none; }` but bootstrap.min.css set `[hidden] { display: none !important; }` so we also need the `!important` here to be able to override the default hidden behavior on the sphinx rendered scikit-learn.org. See: https://github.com/scikit-learn/scikit-learn/issues/21755 */display: inline-block !important;position: relative;}#sk-container-id-5 div.sk-text-repr-fallback {display: none;}</style><div id=\"sk-container-id-5\" class=\"sk-top-container\"><div class=\"sk-text-repr-fallback\"><pre>KNeighborsRegressor(n_neighbors=6)</pre><b>In a Jupyter environment, please rerun this cell to show the HTML representation or trust the notebook. <br />On GitHub, the HTML representation is unable to render, please try loading this page with nbviewer.org.</b></div><div class=\"sk-container\" hidden><div class=\"sk-item\"><div class=\"sk-estimator sk-toggleable\"><input class=\"sk-toggleable__control sk-hidden--visually\" id=\"sk-estimator-id-5\" type=\"checkbox\" checked><label for=\"sk-estimator-id-5\" class=\"sk-toggleable__label sk-toggleable__label-arrow\">KNeighborsRegressor</label><div class=\"sk-toggleable__content\"><pre>KNeighborsRegressor(n_neighbors=6)</pre></div></div></div></div></div>"
      ],
      "text/plain": [
       "KNeighborsRegressor(n_neighbors=6)"
      ]
     },
     "execution_count": 75,
     "metadata": {},
     "output_type": "execute_result"
    }
   ],
   "source": [
    "# KNNeighborRegressor\n",
    "from sklearn.neighbors import KNeighborsRegressor\n",
    "\n",
    "KNN = KNeighborsRegressor(n_neighbors=6)\n",
    "KNN.fit(X_train_processed, y_train)"
   ]
  },
  {
   "cell_type": "code",
   "execution_count": 76,
   "id": "2e4fd092",
   "metadata": {},
   "outputs": [
    {
     "data": {
      "text/plain": [
       "0.5854187323487603"
      ]
     },
     "execution_count": 76,
     "metadata": {},
     "output_type": "execute_result"
    }
   ],
   "source": [
    "score = KNN.score(X_test_processed, y_test)\n",
    "score"
   ]
  },
  {
   "cell_type": "code",
   "execution_count": 77,
   "id": "4ea450a6",
   "metadata": {},
   "outputs": [
    {
     "data": {
      "text/plain": [
       "0.7428488166545186"
      ]
     },
     "execution_count": 77,
     "metadata": {},
     "output_type": "execute_result"
    }
   ],
   "source": [
    "score = KNN.score(X_train_processed, y_train)\n",
    "score"
   ]
  },
  {
   "cell_type": "code",
   "execution_count": null,
   "id": "207bebcd",
   "metadata": {},
   "outputs": [],
   "source": [
    "#11. You can check also the MLPRegressor for this task!"
   ]
  },
  {
   "cell_type": "code",
   "execution_count": 78,
   "id": "d409dfd7",
   "metadata": {},
   "outputs": [
    {
     "name": "stderr",
     "output_type": "stream",
     "text": [
      "/opt/anaconda3/lib/python3.9/site-packages/sklearn/neural_network/_multilayer_perceptron.py:679: ConvergenceWarning: Stochastic Optimizer: Maximum iterations (200) reached and the optimization hasn't converged yet.\n",
      "  warnings.warn(\n"
     ]
    }
   ],
   "source": [
    "from sklearn.neural_network import MLPRegressor\n",
    "regr = MLPRegressor(random_state=1, max_iter=200).fit(X_train_processed, y_train)"
   ]
  },
  {
   "cell_type": "code",
   "execution_count": 79,
   "id": "3b5c0007",
   "metadata": {},
   "outputs": [
    {
     "data": {
      "text/plain": [
       "array([195.81983828, 402.42583731, 376.4245065 ])"
      ]
     },
     "execution_count": 79,
     "metadata": {},
     "output_type": "execute_result"
    }
   ],
   "source": [
    "regr.predict(X_test_processed[:3])"
   ]
  },
  {
   "cell_type": "code",
   "execution_count": 80,
   "id": "9d2ea23f",
   "metadata": {},
   "outputs": [
    {
     "data": {
      "text/plain": [
       "0.6995811560318351"
      ]
     },
     "execution_count": 80,
     "metadata": {},
     "output_type": "execute_result"
    }
   ],
   "source": [
    "regr.score(X_test_processed, y_test)"
   ]
  },
  {
   "cell_type": "code",
   "execution_count": 81,
   "id": "edcda172",
   "metadata": {},
   "outputs": [],
   "source": [
    "#12. Discuss the results\n",
    "#We're getting an exponentially higher score with the KNN model compared to the Linear Regression model. In addition the former has a big difference in score between the test and model data, since the train test is closer to 1, perhaps we would consider it as a good model compared to Linear Regression."
   ]
  },
  {
   "cell_type": "markdown",
   "id": "5b8575a3",
   "metadata": {},
   "source": [
    "# Lab | Random variable distributions"
   ]
  },
  {
   "cell_type": "code",
   "execution_count": null,
   "id": "ff708671",
   "metadata": {},
   "outputs": [],
   "source": [
    "#1. Get the numerical variables from our dataset."
   ]
  },
  {
   "cell_type": "code",
   "execution_count": 83,
   "id": "2de01206",
   "metadata": {},
   "outputs": [
    {
     "data": {
      "text/html": [
       "<div>\n",
       "<style scoped>\n",
       "    .dataframe tbody tr th:only-of-type {\n",
       "        vertical-align: middle;\n",
       "    }\n",
       "\n",
       "    .dataframe tbody tr th {\n",
       "        vertical-align: top;\n",
       "    }\n",
       "\n",
       "    .dataframe thead th {\n",
       "        text-align: right;\n",
       "    }\n",
       "</style>\n",
       "<table border=\"1\" class=\"dataframe\">\n",
       "  <thead>\n",
       "    <tr style=\"text-align: right;\">\n",
       "      <th></th>\n",
       "      <th>customer_lifetime_value</th>\n",
       "      <th>income</th>\n",
       "      <th>monthly_premium_auto</th>\n",
       "      <th>months_since_last_claim</th>\n",
       "      <th>months_since_policy_inception</th>\n",
       "      <th>number_of_open_complaints</th>\n",
       "      <th>number_of_policies</th>\n",
       "      <th>total_claim_amount</th>\n",
       "    </tr>\n",
       "  </thead>\n",
       "  <tbody>\n",
       "    <tr>\n",
       "      <th>0</th>\n",
       "      <td>2763.519279</td>\n",
       "      <td>56274</td>\n",
       "      <td>69</td>\n",
       "      <td>32</td>\n",
       "      <td>5</td>\n",
       "      <td>0</td>\n",
       "      <td>1</td>\n",
       "      <td>384.811147</td>\n",
       "    </tr>\n",
       "    <tr>\n",
       "      <th>1</th>\n",
       "      <td>6979.535903</td>\n",
       "      <td>0</td>\n",
       "      <td>94</td>\n",
       "      <td>13</td>\n",
       "      <td>42</td>\n",
       "      <td>0</td>\n",
       "      <td>8</td>\n",
       "      <td>1131.464935</td>\n",
       "    </tr>\n",
       "    <tr>\n",
       "      <th>2</th>\n",
       "      <td>12887.431650</td>\n",
       "      <td>48767</td>\n",
       "      <td>108</td>\n",
       "      <td>18</td>\n",
       "      <td>38</td>\n",
       "      <td>0</td>\n",
       "      <td>2</td>\n",
       "      <td>566.472247</td>\n",
       "    </tr>\n",
       "    <tr>\n",
       "      <th>3</th>\n",
       "      <td>7645.861827</td>\n",
       "      <td>0</td>\n",
       "      <td>106</td>\n",
       "      <td>18</td>\n",
       "      <td>65</td>\n",
       "      <td>0</td>\n",
       "      <td>7</td>\n",
       "      <td>529.881344</td>\n",
       "    </tr>\n",
       "    <tr>\n",
       "      <th>4</th>\n",
       "      <td>2813.692575</td>\n",
       "      <td>43836</td>\n",
       "      <td>73</td>\n",
       "      <td>12</td>\n",
       "      <td>44</td>\n",
       "      <td>0</td>\n",
       "      <td>1</td>\n",
       "      <td>138.130879</td>\n",
       "    </tr>\n",
       "  </tbody>\n",
       "</table>\n",
       "</div>"
      ],
      "text/plain": [
       "   customer_lifetime_value  income  monthly_premium_auto  \\\n",
       "0              2763.519279   56274                    69   \n",
       "1              6979.535903       0                    94   \n",
       "2             12887.431650   48767                   108   \n",
       "3              7645.861827       0                   106   \n",
       "4              2813.692575   43836                    73   \n",
       "\n",
       "   months_since_last_claim  months_since_policy_inception  \\\n",
       "0                       32                              5   \n",
       "1                       13                             42   \n",
       "2                       18                             38   \n",
       "3                       18                             65   \n",
       "4                       12                             44   \n",
       "\n",
       "   number_of_open_complaints  number_of_policies  total_claim_amount  \n",
       "0                          0                   1          384.811147  \n",
       "1                          0                   8         1131.464935  \n",
       "2                          0                   2          566.472247  \n",
       "3                          0                   7          529.881344  \n",
       "4                          0                   1          138.130879  "
      ]
     },
     "execution_count": 83,
     "metadata": {},
     "output_type": "execute_result"
    }
   ],
   "source": [
    "numerical_df.head()"
   ]
  },
  {
   "cell_type": "code",
   "execution_count": null,
   "id": "f58fa0ba",
   "metadata": {},
   "outputs": [],
   "source": [
    "#2. Check using a distribution plot if the variables fit the theoretical normal or exponential distribution."
   ]
  },
  {
   "cell_type": "code",
   "execution_count": 84,
   "id": "765aaa12",
   "metadata": {},
   "outputs": [
    {
     "data": {
      "image/png": "[encoded data removed]",
      "text/plain": [
       "<Figure size 500x500 with 1 Axes>"
      ]
     },
     "metadata": {},
     "output_type": "display_data"
    },
    {
     "data": {
      "image/png": "[encoded data removed]",
      "text/plain": [
       "<Figure size 500x500 with 1 Axes>"
      ]
     },
     "metadata": {},
     "output_type": "display_data"
    },
    {
     "data": {
      "image/png": "[encoded data removed]",
      "text/plain": [
       "<Figure size 500x500 with 1 Axes>"
      ]
     },
     "metadata": {},
     "output_type": "display_data"
    },
    {
     "data": {
      "image/png": "[encoded data removed]",
      "text/plain": [
       "<Figure size 500x500 with 1 Axes>"
      ]
     },
     "metadata": {},
     "output_type": "display_data"
    },
    {
     "data": {
      "image/png": "[encoded data removed]",
      "text/plain": [
       "<Figure size 500x500 with 1 Axes>"
      ]
     },
     "metadata": {},
     "output_type": "display_data"
    },
    {
     "data": {
      "image/png": "[encoded data removed]",
      "text/plain": [
       "<Figure size 500x500 with 1 Axes>"
      ]
     },
     "metadata": {},
     "output_type": "display_data"
    },
    {
     "data": {
      "image/png": "[encoded data removed]",
      "text/plain": [
       "<Figure size 500x500 with 1 Axes>"
      ]
     },
     "metadata": {},
     "output_type": "display_data"
    },
    {
     "data": {
      "image/png": "[encoded data removed]",
      "text/plain": [
       "<Figure size 500x500 with 1 Axes>"
      ]
     },
     "metadata": {},
     "output_type": "display_data"
    }
   ],
   "source": [
    "for i in numerical_df:\n",
    "    sns.displot(numerical_df[i], kde=True)\n",
    "    plt.show()"
   ]
  },
  {
   "cell_type": "code",
   "execution_count": 95,
   "id": "dfbf1b46",
   "metadata": {},
   "outputs": [
    {
     "data": {
      "image/png": "[encoded data removed]",
      "text/plain": [
       "<Figure size 500x500 with 1 Axes>"
      ]
     },
     "metadata": {},
     "output_type": "display_data"
    }
   ],
   "source": [
    "def log_transfom_clean1(x):\n",
    "    x = np.log10(x)\n",
    "    if np.isfinite(x):\n",
    "        return x\n",
    "    else:\n",
    "        return 0\n",
    "    \n",
    "customer_lifetime_value_log = numerical_df['customer_lifetime_value'].apply(log_transfom_clean1)\n",
    "sns.displot(customer_lifetime_value_log)\n",
    "plt.show()\n"
   ]
  },
  {
   "cell_type": "code",
   "execution_count": 96,
   "id": "c4a56572",
   "metadata": {},
   "outputs": [
    {
     "data": {
      "image/png": "[encoded data removed]",
      "text/plain": [
       "<Figure size 500x500 with 1 Axes>"
      ]
     },
     "metadata": {},
     "output_type": "display_data"
    }
   ],
   "source": [
    "income_log = numerical_df['income'].apply(log_transfom_clean1)\n",
    "sns.displot(income_log)\n",
    "plt.show()"
   ]
  },
  {
   "cell_type": "code",
   "execution_count": 97,
   "id": "64833128",
   "metadata": {},
   "outputs": [
    {
     "data": {
      "image/png": "[encoded data removed]",
      "text/plain": [
       "<Figure size 500x500 with 1 Axes>"
      ]
     },
     "metadata": {},
     "output_type": "display_data"
    }
   ],
   "source": [
    "months_since_last_claim_log = numerical_df['months_since_last_claim'].apply(log_transfom_clean1)\n",
    "sns.displot(months_since_last_claim_log)\n",
    "plt.show()"
   ]
  },
  {
   "cell_type": "code",
   "execution_count": 98,
   "id": "8db78b35",
   "metadata": {},
   "outputs": [
    {
     "data": {
      "image/png": "[encoded data removed]",
      "text/plain": [
       "<Figure size 500x500 with 1 Axes>"
      ]
     },
     "metadata": {},
     "output_type": "display_data"
    }
   ],
   "source": [
    "months_since_policy_inception_log = numerical_df['months_since_policy_inception'].apply(log_transfom_clean1)\n",
    "sns.displot(months_since_policy_inception_log)\n",
    "plt.show()"
   ]
  },
  {
   "cell_type": "code",
   "execution_count": 99,
   "id": "89a30ea1",
   "metadata": {},
   "outputs": [
    {
     "data": {
      "image/png": "[encoded data removed]",
      "text/plain": [
       "<Figure size 500x500 with 1 Axes>"
      ]
     },
     "metadata": {},
     "output_type": "display_data"
    }
   ],
   "source": [
    "number_of_open_complaints_log = numerical_df['number_of_open_complaints'].apply(log_transfom_clean1)\n",
    "sns.displot(number_of_open_complaints_log)\n",
    "plt.show()"
   ]
  },
  {
   "cell_type": "code",
   "execution_count": null,
   "id": "f2ed857a",
   "metadata": {},
   "outputs": [],
   "source": []
  }
 ],
 "metadata": {
  "kernelspec": {
   "display_name": "Python 3 (ipykernel)",
   "language": "python",
   "name": "python3"
  },
  "language_info": {
   "codemirror_mode": {
    "name": "ipython",
    "version": 3
   },
   "file_extension": ".py",
   "mimetype": "text/x-python",
   "name": "python",
   "nbconvert_exporter": "python",
   "pygments_lexer": "ipython3",
   "version": "3.9.13"
  }
 },
 "nbformat": 4,
 "nbformat_minor": 5
}
